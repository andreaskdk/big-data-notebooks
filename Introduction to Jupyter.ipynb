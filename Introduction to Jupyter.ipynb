{
 "cells": [
  {
   "cell_type": "markdown",
   "metadata": {},
   "source": [
    "# Introduction to Jupyter and PySpark\n",
    "\n",
    "This notebook will provide an introduction to notebooks and in particular to working with PySpark in notebooks. Jupyter is an open source project and has a website (https://jupyter.org/) with links to lots of documentation."
   ]
  },
  {
   "cell_type": "markdown",
   "metadata": {},
   "source": [
    "A notebook allows documentation, executable code and visualization to be intermixed. This cell is a documentation cell, which accepts Markdown formattet text and displays it nicely. The cell below is a code cell. It can be executed by selecting it and pressing the run button at the top or by using the keyboard short-cut **shift + enter**."
   ]
  },
  {
   "cell_type": "code",
   "execution_count": 1,
   "metadata": {},
   "outputs": [
    {
     "name": "stdout",
     "output_type": "stream",
     "text": [
      "Hello world\n"
     ]
    }
   ],
   "source": [
    "print(\"Hello world\")"
   ]
  },
  {
   "cell_type": "markdown",
   "metadata": {},
   "source": [
    "## Lists, Tuples and Dictionaries\n",
    "\n",
    "Python has quite a few data structures available. We will not use all of these, but **lists**, **tuples** and **dictionaries** will be used in the notebooks.\n",
    "\n",
    "A common data structure in Python is the **list**, which is an ordered sequence of objects and can be instantiated with the square brackets notation:"
   ]
  },
  {
   "cell_type": "code",
   "execution_count": 2,
   "metadata": {},
   "outputs": [
    {
     "data": {
      "text/plain": [
       "[1, 1, 2, 3, 5]"
      ]
     },
     "execution_count": 2,
     "metadata": {},
     "output_type": "execute_result"
    }
   ],
   "source": [
    "a = [ 1, 1, 2, 3, 5 ]\n",
    "a"
   ]
  },
  {
   "cell_type": "markdown",
   "metadata": {},
   "source": [
    "A **dictionary** in Python is an mutable, unordered set of key-value pairs. "
   ]
  },
  {
   "cell_type": "code",
   "execution_count": 3,
   "metadata": {},
   "outputs": [
    {
     "name": "stdout",
     "output_type": "stream",
     "text": [
      "Tom has shoesize 45\n"
     ]
    }
   ],
   "source": [
    "person = { \"name\": \"Tom\", \"age\": 35 }\n",
    "person[\"shoesize\"] = 45\n",
    "print(person[\"name\"] + \" has shoesize \" + str(person[\"shoesize\"]))"
   ]
  },
  {
   "cell_type": "markdown",
   "metadata": {},
   "source": [
    "**Tuples** are similar to lists, but are immutable and comparable. Opposed to lists, they can be used as keys in for example dictionaries. Tuples use a notation with regular brackets:"
   ]
  },
  {
   "cell_type": "code",
   "execution_count": 4,
   "metadata": {},
   "outputs": [
    {
     "name": "stdout",
     "output_type": "stream",
     "text": [
      "False\n",
      "True\n"
     ]
    }
   ],
   "source": [
    "a = (1,3)\n",
    "b = (1,2)\n",
    "c = (1,3)\n",
    "print(a == b)\n",
    "print(a == c)"
   ]
  },
  {
   "cell_type": "markdown",
   "metadata": {},
   "source": [
    "## Functions, conditionals and loops\n",
    "\n",
    "Python has a very simple syntax and is generally easy to pick up for programmers of other languages. In Python, indentation is used in stead of the curly brackets {} that are used in C and Java for example.\n",
    "\n",
    "##### Conditionals\n",
    "\n",
    "Conditionals look as follows:"
   ]
  },
  {
   "cell_type": "code",
   "execution_count": 5,
   "metadata": {},
   "outputs": [
    {
     "name": "stdout",
     "output_type": "stream",
     "text": [
      "x is smaller than 5\n"
     ]
    }
   ],
   "source": [
    "x = 4\n",
    "\n",
    "if x < 5:\n",
    "    print(\"x is smaller than 5\")\n",
    "    \n",
    "if x > 5:\n",
    "    print(\"x is greater than 5\")"
   ]
  },
  {
   "cell_type": "markdown",
   "metadata": {},
   "source": [
    "##### Loops\n",
    "\n",
    "**for**-loops in Python can iterate over list like objects:"
   ]
  },
  {
   "cell_type": "code",
   "execution_count": 6,
   "metadata": {},
   "outputs": [
    {
     "name": "stdout",
     "output_type": "stream",
     "text": [
      "1\n",
      "2\n",
      "4\n",
      "five\n"
     ]
    }
   ],
   "source": [
    "a = [1, 2, 4, \"five\"]\n",
    "\n",
    "for x in a:\n",
    "    print(x)"
   ]
  },
  {
   "cell_type": "markdown",
   "metadata": {},
   "source": [
    "The build-in function **range()** generates a list, which can be useful for looping:"
   ]
  },
  {
   "cell_type": "code",
   "execution_count": 7,
   "metadata": {},
   "outputs": [
    {
     "name": "stdout",
     "output_type": "stream",
     "text": [
      "0\n",
      "1\n",
      "2\n",
      "3\n",
      "4\n"
     ]
    }
   ],
   "source": [
    "for i in range(0,5):\n",
    "    print(i)"
   ]
  },
  {
   "cell_type": "markdown",
   "metadata": {},
   "source": [
    "##### Functions\n",
    "\n",
    "A **function** in Python is defined with the **def** key-word:"
   ]
  },
  {
   "cell_type": "code",
   "execution_count": 8,
   "metadata": {},
   "outputs": [
    {
     "data": {
      "text/plain": [
       "5"
      ]
     },
     "execution_count": 8,
     "metadata": {},
     "output_type": "execute_result"
    }
   ],
   "source": [
    "def addition(a, b):\n",
    "    return a + b\n",
    "\n",
    "addition(2, 3)"
   ]
  },
  {
   "cell_type": "markdown",
   "metadata": {},
   "source": [
    "Functions in Python are objects and can be passed as arguments to other functions:"
   ]
  },
  {
   "cell_type": "code",
   "execution_count": 9,
   "metadata": {},
   "outputs": [
    {
     "name": "stdout",
     "output_type": "stream",
     "text": [
      "hello python\n",
      "HELLO PYTHON\n"
     ]
    }
   ],
   "source": [
    "def shout(text): \n",
    "    return text.upper() \n",
    "  \n",
    "def whisper(text): \n",
    "    return text.lower() \n",
    "  \n",
    "def greet(func): \n",
    "    greeting = func(\"Hello Python\") \n",
    "    print(greeting)\n",
    "    \n",
    "\n",
    "greet(whisper)\n",
    "greet(shout)"
   ]
  },
  {
   "cell_type": "markdown",
   "metadata": {},
   "source": [
    "Another feature of Python, which comes in especially handy when working with big data is the option of defining anonymous functions with the **lambda** keyword: "
   ]
  },
  {
   "cell_type": "code",
   "execution_count": 10,
   "metadata": {},
   "outputs": [
    {
     "name": "stdout",
     "output_type": "stream",
     "text": [
      "Plain: Hello Python\n",
      "Whispering: hello python\n",
      "Shouting: HELLO PYTHON\n"
     ]
    }
   ],
   "source": [
    "greet(lambda x: \"Plain: \" + x + \"\\nWhispering: \" + whisper(x) + \"\\nShouting: \"+shout(x))"
   ]
  },
  {
   "cell_type": "markdown",
   "metadata": {},
   "source": [
    "## Accessing Spark\n",
    "\n",
    "When we run Jupyter with the \"PySpark\"-kernel we can access the Spark system via the predifined object **spark**:"
   ]
  },
  {
   "cell_type": "code",
   "execution_count": 11,
   "metadata": {},
   "outputs": [
    {
     "data": {
      "text/html": [
       "\n",
       "            <div>\n",
       "                <p><b>SparkSession - hive</b></p>\n",
       "                \n",
       "        <div>\n",
       "            <p><b>SparkContext</b></p>\n",
       "\n",
       "            <p><a href=\"http://cluster-student01-m.europe-north1-a.c.big-data-course-235920.internal:4040\">Spark UI</a></p>\n",
       "\n",
       "            <dl>\n",
       "              <dt>Version</dt>\n",
       "                <dd><code>v2.3.2</code></dd>\n",
       "              <dt>Master</dt>\n",
       "                <dd><code>yarn</code></dd>\n",
       "              <dt>AppName</dt>\n",
       "                <dd><code>pyspark-shell</code></dd>\n",
       "            </dl>\n",
       "        </div>\n",
       "        \n",
       "            </div>\n",
       "        "
      ],
      "text/plain": [
       "<pyspark.sql.session.SparkSession at 0x7fa470968b00>"
      ]
     },
     "execution_count": 11,
     "metadata": {},
     "output_type": "execute_result"
    }
   ],
   "source": [
    "spark"
   ]
  },
  {
   "cell_type": "markdown",
   "metadata": {},
   "source": [
    "When the **SparkSession** object is shown in Jupyter it provides a link to the **SparkUI**, which is a web application that can show the current status of the Spark cluster. Unfortunately, the link relies on a hostname that only makes sense on the internal cluster network. With a bit of code we can however get a link to the UI."
   ]
  },
  {
   "cell_type": "code",
   "execution_count": 12,
   "metadata": {},
   "outputs": [
    {
     "data": {
      "application/javascript": [
       "\n",
       "           var el=document.createElement(\"h3\");\n",
       "           var ela=document.createElement(\"a\");\n",
       "           ela.innerHTML=\"SparkUI\";\n",
       "           ela.href=window.location.protocol + '//' + window.location.hostname + ':8088/proxy/application_1557470532490_0002/';\n",
       "           ela.target=\"_blank\";\n",
       "           el.append(ela);\n",
       "           \n",
       "           element.append(el);\n",
       "           "
      ],
      "text/plain": [
       "<IPython.core.display.Javascript object>"
      ]
     },
     "execution_count": 12,
     "metadata": {},
     "output_type": "execute_result"
    }
   ],
   "source": [
    "from IPython.display import Javascript\n",
    "Javascript(\"\"\"\n",
    "           var el=document.createElement(\"h3\");\n",
    "           var ela=document.createElement(\"a\");\n",
    "           ela.innerHTML=\"SparkUI\";\n",
    "           ela.href=window.location.protocol + '//' + window.location.hostname + ':8088/proxy/\"\"\" \\\n",
    "           + spark.sparkContext.applicationId \\\n",
    "           + \"\"\"/';\n",
    "           ela.target=\"_blank\";\n",
    "           el.append(ela);\n",
    "           \n",
    "           element.append(el);\n",
    "           \"\"\")"
   ]
  },
  {
   "cell_type": "markdown",
   "metadata": {},
   "source": [
    "If the above link is clicked a new tab with SparkUI should open. It will however not show any jobs having been run on the cluster yet. Try running the simple Spark-jobs below and refresh the SparkUI to see the jobs."
   ]
  },
  {
   "cell_type": "code",
   "execution_count": 13,
   "metadata": {},
   "outputs": [
    {
     "data": {
      "text/plain": [
       "[0, 1, 2, 3, 4, 5, 6, 7, 8, 9]"
      ]
     },
     "execution_count": 13,
     "metadata": {},
     "output_type": "execute_result"
    }
   ],
   "source": [
    "data = spark.sparkContext.parallelize(range(10))\n",
    "data.collect()"
   ]
  },
  {
   "cell_type": "code",
   "execution_count": 14,
   "metadata": {},
   "outputs": [
    {
     "data": {
      "text/plain": [
       "[0, 2, 4, 6, 8, 10, 12, 14, 16, 18]"
      ]
     },
     "execution_count": 14,
     "metadata": {},
     "output_type": "execute_result"
    }
   ],
   "source": [
    "data.map(lambda x: x*2).collect()"
   ]
  },
  {
   "cell_type": "markdown",
   "metadata": {},
   "source": [
    "## Visualizing data\n",
    "\n",
    "One of the big advantages of working in notebooks is that it is possible to intermix visualization with code and documentation.\n",
    "\n",
    "There are several visualization libraries availiable for Python. Here we will use the library called Seaborn ( https://seaborn.pydata.org/ ), which depends on the library called Pandas ( https://pandas.pydata.org/ ). Pandas allows data to be represented as a table-like structure called DataFrames.\n",
    "\n",
    "Below is an example of simple bar chart using Pandas and Seaborn:"
   ]
  },
  {
   "cell_type": "code",
   "execution_count": 15,
   "metadata": {},
   "outputs": [
    {
     "data": {
      "text/plain": [
       "<matplotlib.axes._subplots.AxesSubplot at 0x7fa44a839ba8>"
      ]
     },
     "execution_count": 15,
     "metadata": {},
     "output_type": "execute_result"
    },
    {
     "data": {
      "image/png": "[encoded data removed]",
      "text/plain": [
       "<Figure size 432x288 with 1 Axes>"
      ]
     },
     "metadata": {
      "needs_background": "light"
     },
     "output_type": "display_data"
    }
   ],
   "source": [
    "import seaborn as sns\n",
    "import pandas as pd\n",
    "%matplotlib inline\n",
    "\n",
    "lifetime_data=pd.DataFrame([[\"1900\", 50.1], [\"2018\", 80.9]], columns=[\"Year\", \"Expected Lifetime\"])\n",
    "sns.barplot(x=\"Year\", y=\"Expected Lifetime\", data=lifetime_data)"
   ]
  },
  {
   "cell_type": "markdown",
   "metadata": {},
   "source": [
    "Here are a few example of more detailed bar charts:"
   ]
  },
  {
   "cell_type": "code",
   "execution_count": 16,
   "metadata": {},
   "outputs": [
    {
     "data": {
      "text/plain": [
       "<matplotlib.axes._subplots.AxesSubplot at 0x7fa44a514ba8>"
      ]
     },
     "execution_count": 16,
     "metadata": {},
     "output_type": "execute_result"
    },
    {
     "data": {
      "image/png": "[encoded data removed]",
      "text/plain": [
       "<Figure size 432x288 with 1 Axes>"
      ]
     },
     "metadata": {
      "needs_background": "light"
     },
     "output_type": "display_data"
    }
   ],
   "source": [
    "lifetime_data=pd.DataFrame([[\"1900\", \"Men\", 48.6], [\"1900\", \"Women\", 51.4], \n",
    "                   [\"2018\", \"Men\", 79.0], [\"2018\", \"Women\", 82.9]], \n",
    "                  columns=[\"Year\", \"Sex\", \"Expected Lifetime\"])\n",
    "sns.barplot(x=\"Year\", y=\"Expected Lifetime\", hue=\"Sex\", data=lifetime_data)"
   ]
  },
  {
   "cell_type": "markdown",
   "metadata": {},
   "source": [
    "Another type of useful plot is a heatmap, which is also supported by Seaborn:"
   ]
  },
  {
   "cell_type": "code",
   "execution_count": 17,
   "metadata": {},
   "outputs": [
    {
     "data": {
      "image/png": "[encoded data removed]",
      "text/plain": [
       "<Figure size 432x288 with 2 Axes>"
      ]
     },
     "metadata": {
      "needs_background": "light"
     },
     "output_type": "display_data"
    }
   ],
   "source": [
    "import random\n",
    "\n",
    "data=[]\n",
    "for i in range(10):\n",
    "    row=[]\n",
    "    for j in range(12):\n",
    "        row.append(random.random())\n",
    "    data.append(row)\n",
    "    \n",
    "ax = sns.heatmap(data)"
   ]
  },
  {
   "cell_type": "markdown",
   "metadata": {},
   "source": [
    "Remember: if we want to visualize data in Spark, we will need to collect it first."
   ]
  },
  {
   "cell_type": "code",
   "execution_count": null,
   "metadata": {},
   "outputs": [],
   "source": []
  }
 ],
 "metadata": {
  "kernelspec": {
   "display_name": "PySpark",
   "language": "python",
   "name": "pyspark"
  },
  "language_info": {
   "codemirror_mode": {
    "name": "ipython",
    "version": 3
   },
   "file_extension": ".py",
   "mimetype": "text/x-python",
   "name": "python",
   "nbconvert_exporter": "python",
   "pygments_lexer": "ipython3",
   "version": "3.6.5"
  }
 },
 "nbformat": 4,
 "nbformat_minor": 2
}