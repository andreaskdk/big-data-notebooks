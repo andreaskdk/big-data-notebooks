{
 "cells": [
  {
   "cell_type": "markdown",
   "metadata": {},
   "source": [
    "# New York City Taxi Trips\n",
    "\n",
    "We would like to make a heatmap of showing the relationship between the price of a taxi trip and the tip amount as this can reveal patterns in tipping strategies. This task is challenging and requires knowledge of Spark and Python. Look at the solution for clues.\n",
    "\n",
    "The dataset we will work on is published by the New York City Taxi and Limousine Commision, which since 2009 have been publishing data on every taxi trip in New York. There ara many taxitrips in New York every day, so this amounts to quite a lot of data. There are many different types of analysis that can be done on this data, but we will concentrate on illustrating how much people are tipping.\n",
    "\n",
    "Since we will be working with more data it is good to be able to keep an eye on the jobs running on the Spark cluster. The code below is just to get a link to the SparkUI."
   ]
  },
  {
   "cell_type": "code",
   "execution_count": 109,
   "metadata": {},
   "outputs": [
    {
     "data": {
      "application/javascript": [
       "\n",
       "           var el=document.createElement(\"h3\");\n",
       "           var ela=document.createElement(\"a\");\n",
       "           ela.innerHTML=\"SparkUI\";\n",
       "           ela.href=window.location.protocol + '//' + window.location.hostname + ':8088/proxy/application_1554531869039_0001/';\n",
       "           ela.target=\"_blank\";\n",
       "           el.append(ela);\n",
       "           \n",
       "           element.append(el);\n",
       "           "
      ],
      "text/plain": [
       "<IPython.core.display.Javascript object>"
      ]
     },
     "execution_count": 109,
     "metadata": {},
     "output_type": "execute_result"
    }
   ],
   "source": [
    "from IPython.display import Javascript\n",
    "Javascript(\"\"\"\n",
    "           var el=document.createElement(\"h3\");\n",
    "           var ela=document.createElement(\"a\");\n",
    "           ela.innerHTML=\"SparkUI\";\n",
    "           ela.href=window.location.protocol + '//' + window.location.hostname + ':8088/proxy/\"\"\" \\\n",
    "           + spark.sparkContext.applicationId \\\n",
    "           + \"\"\"/';\n",
    "           ela.target=\"_blank\";\n",
    "           el.append(ela);\n",
    "           \n",
    "           element.append(el);\n",
    "           \"\"\")"
   ]
  },
  {
   "cell_type": "markdown",
   "metadata": {},
   "source": [
    "Even if we have several years of data we will just load one month of data from january 2012."
   ]
  },
  {
   "cell_type": "code",
   "execution_count": 2,
   "metadata": {},
   "outputs": [],
   "source": [
    "data = spark.read.csv(\"gs://big-data-course-datasets/nyc_taxi/yellow_tripdata_2012-01.csv\",  \\\n",
    "             header=True).rdd.cache()"
   ]
  },
  {
   "cell_type": "markdown",
   "metadata": {},
   "source": [
    "Even just one month of data is almost 15 mio. trips, so that should be enough to get a nice heatmap. "
   ]
  },
  {
   "cell_type": "code",
   "execution_count": 4,
   "metadata": {},
   "outputs": [
    {
     "data": {
      "text/plain": [
       "14969132"
      ]
     },
     "execution_count": 4,
     "metadata": {},
     "output_type": "execute_result"
    }
   ],
   "source": [
    "data.count()"
   ]
  },
  {
   "cell_type": "markdown",
   "metadata": {},
   "source": [
    "If we take a look at the data we can see that the relevant columns are \"tip_amount\" and \"fare_amount\""
   ]
  },
  {
   "cell_type": "code",
   "execution_count": 5,
   "metadata": {},
   "outputs": [
    {
     "name": "stdout",
     "output_type": "stream",
     "text": [
      "+---------+-------------------+-------------------+---------------+-------------------+-------------------+------------------+---------+------------------+-------------------+------------------+------------+------------------+---------+-------+------------------+------------------+------------------+\n",
      "|vendor_id|    pickup_datetime|   dropoff_datetime|passenger_count|      trip_distance|   pickup_longitude|   pickup_latitude|rate_code|store_and_fwd_flag|  dropoff_longitude|  dropoff_latitude|payment_type|       fare_amount|surcharge|mta_tax|        tip_amount|      tolls_amount|      total_amount|\n",
      "+---------+-------------------+-------------------+---------------+-------------------+-------------------+------------------+---------+------------------+-------------------+------------------+------------+------------------+---------+-------+------------------+------------------+------------------+\n",
      "|      CMT|2012-01-10 23:55:50|2012-01-11 00:03:39|              1|                1.7|-73.994692999999998|40.725031000000001|        1|                 N|-73.975950999999995|         40.730781|         CRD|6.9000000000000004|      0.5|    0.5|                 1|                 0|8.9000000000000004|\n",
      "|      CMT|2012-01-11 19:18:25|2012-01-11 19:26:10|              1| 1.1000000000000001|-73.987954999999999|40.752946999999999|        1|                 N|-73.994532000000007|40.761040000000001|         CSH|6.0999999999999996|        1|    0.5|                 0|                 0|7.5999999999999996|\n",
      "|      CMT|2012-01-11 19:19:19|2012-01-11 19:48:15|              2|                 18|-73.783092999999994|          40.64855|        2|                 N|-73.996133999999998|40.747624000000002|         CRD|                45|        0|    0.5|             10.06|4.7999999999999998|60.359999999999999|\n",
      "|      CMT|2012-01-11 19:19:21|2012-01-11 19:27:00|              1|                1.7|-73.967515000000006|         40.758454|        1|                 N|-73.956582999999995|40.779902999999997|         CRD|6.9000000000000004|        1|    0.5|                 1|                 0|9.4000000000000004|\n",
      "|      CMT|2012-01-11 14:38:15|2012-01-11 14:43:51|              1|                1.2|-74.011314999999996|40.711449000000002|        1|                 N|-74.002871999999996|40.728130999999998|         CSH|5.7000000000000002|        0|    0.5|                 0|                 0|6.2000000000000002|\n",
      "|      VTS|2012-01-09 19:14:00|2012-01-09 19:20:00|              1|               1.25|-73.993335000000002|40.727716999999998|        1|              null|-73.981566999999998|40.739244999999997|         CSH|6.0999999999999996|        1|    0.5|                 0|                 0|7.5999999999999996|\n",
      "|      CMT|2012-01-11 14:39:08|2012-01-11 15:24:45|              1| 13.800000000000001|-73.781899999999993|40.644799999999996|        1|                 N|-73.986999999999995|40.700000000000003|         CSH|              36.5|        0|    0.5|                 0|                 0|                37|\n",
      "|      VTS|2012-01-09 19:12:00|2012-01-09 19:20:00|              2| 1.3700000000000001|-73.975662999999997|          40.75038|        1|              null|-73.991624999999999|          40.73827|         CSH|               6.5|        1|    0.5|                 0|                 0|                 8|\n",
      "|      CMT|2012-01-11 19:19:43|2012-01-11 19:34:49|              1| 3.2999999999999998|-73.966740999999999|         40.767263|        1|                 N|-73.981848999999997|40.728363000000002|         CSH|              10.9|        1|    0.5|                 0|                 0|              12.4|\n",
      "|      CMT|2012-01-11 19:20:33|2012-01-11 19:23:15|              1|                0.5|-73.968604999999997|40.761035999999997|        1|                 N|-73.968701999999993|40.764553999999997|         CSH|3.7000000000000002|        1|    0.5|                 0|                 0|5.2000000000000002|\n",
      "|      CMT|2012-01-11 12:51:35|2012-01-11 13:00:09|              1|0.90000000000000002|-73.986731000000006|40.761490999999999|        1|                 N|-73.990005999999994|40.752082999999999|         CRD|6.0999999999999996|        0|    0.5|                 1|                 0|7.5999999999999996|\n",
      "|      CMT|2012-01-11 14:39:54|2012-01-11 15:00:07|              1| 5.9000000000000004|-73.971621999999996|40.782288999999999|        1|                 N|-74.008315999999994|40.722665999999997|         CSH|16.899999999999999|        0|    0.5|                 0|                 0|17.399999999999999|\n",
      "|      CMT|2012-01-11 14:41:15|2012-01-11 15:02:26|              1| 3.1000000000000001|-73.975487000000001|40.763309999999997|        1|                 N|-73.997281999999998|40.724984999999997|         CSH|              12.5|        0|    0.5|                 0|                 0|                13|\n",
      "|      CMT|2012-01-11 19:19:37|2012-01-11 19:24:13|              1|0.69999999999999996|-73.968445000000003|40.754998000000001|        1|                 N|-73.977439000000004|40.749068000000001|         CRD|               4.5|        1|    0.5|               1.2|                 0|7.2000000000000002|\n",
      "|      CMT|2012-01-11 14:40:09|2012-01-11 14:55:58|              1| 2.2000000000000002|-73.980202000000006|40.754223000000003|        1|                 N|-73.958437000000004|         40.772841|         CSH|9.6999999999999993|        0|    0.5|                 0|                 0|10.199999999999999|\n",
      "|      CMT|2012-01-11 14:41:16|2012-01-11 14:48:46|              1|                1.8|-73.986287000000004|40.752088999999998|        1|                 N|-73.982245000000006|40.773836000000003|         CRD|6.9000000000000004|        0|    0.5|              1.48|                 0|8.8800000000000008|\n",
      "|      CMT|2012-01-18 13:27:07|2012-01-18 13:32:15|              1| 1.3999999999999999|-73.968750999999997|40.764494999999997|        1|                 N|-73.955409000000003|40.782600000000002|         CRD|5.7000000000000002|        0|    0.5|              1.24|                 0|7.4400000000000004|\n",
      "|      CMT|2012-01-18 13:49:34|2012-01-18 13:58:44|              2|                1.7|-73.969741999999997|40.783982000000002|        1|                 Y|-73.972440000000006|40.764972999999998|         CSH|7.2999999999999998|        0|    0.5|                 0|                 0|7.7999999999999998|\n",
      "|      CMT|2012-01-18 08:55:59|2012-01-18 08:59:05|              1|                0.5|-73.971000000000004|40.761346000000003|        1|                 N|-73.966168999999994|40.767783000000001|         CSH|4.0999999999999996|        0|    0.5|                 0|                 0|4.5999999999999996|\n",
      "|      CMT|2012-01-18 13:06:09|2012-01-18 13:16:27|              1|                1.5|-74.006568000000001|40.751403000000003|        1|                 N|-73.986911000000006|40.756169999999997|         CRD|7.7000000000000002|        0|    0.5|2.0499999999999998|                 0|             10.25|\n",
      "+---------+-------------------+-------------------+---------------+-------------------+-------------------+------------------+---------+------------------+-------------------+------------------+------------+------------------+---------+-------+------------------+------------------+------------------+\n",
      "only showing top 20 rows\n",
      "\n"
     ]
    }
   ],
   "source": [
    "data.toDF().show()"
   ]
  },
  {
   "cell_type": "markdown",
   "metadata": {},
   "source": [
    "Try to create a heatmap showing \"fare_amount\" on the x-axis and \"tip_amount\" on the y-axis."
   ]
  },
  {
   "cell_type": "code",
   "execution_count": null,
   "metadata": {},
   "outputs": [],
   "source": []
  }
 ],
 "metadata": {
  "kernelspec": {
   "display_name": "PySpark",
   "language": "python",
   "name": "pyspark"
  },
  "language_info": {
   "codemirror_mode": {
    "name": "ipython",
    "version": 3
   },
   "file_extension": ".py",
   "mimetype": "text/x-python",
   "name": "python",
   "nbconvert_exporter": "python",
   "pygments_lexer": "ipython3",
   "version": "3.6.5"
  }
 },
 "nbformat": 4,
 "nbformat_minor": 2
}