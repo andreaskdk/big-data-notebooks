{
 "cells": [
  {
   "cell_type": "markdown",
   "metadata": {},
   "source": [
    "# Streaming Movie Reviews\n",
    "\n",
    "In this hands-on exercise we will look at data, which is not bounded. In many applications data is continuously updated. The data that we will be working with comes from the Internet Movie Database (IMDB) app. Users who have set their app up to connect with Twitter will automatically produce a tweet everytime they rate a movie in the app. It is possible to subscribe to tweets as they are produced, but for simplicity we will simulate this process by streaming historic data.\n",
    "\n",
    "To work with streaming data in Spark we need to create a StreamingContext that plays a similar role to the SparkContext of a batch application. We also need to set an interval of how often we want to process data. Here we will set it to 10 seconds."
   ]
  },
  {
   "cell_type": "code",
   "execution_count": null,
   "metadata": {},
   "outputs": [],
   "source": [
    "from pyspark.streaming import StreamingContext\n",
    "batch_interval=10\n",
    "stream_context = StreamingContext(sc, batch_interval)"
   ]
  },
  {
   "cell_type": "markdown",
   "metadata": {},
   "source": [
    "We can now manipulate the streaming data similarly to what we would do with batch data, but the difference is that the processing is repeated every 10 seconds with the data that have arrived since last run.\n",
    "\n",
    "We are faking the stream of reviews by hooking up to a bucket."
   ]
  },
  {
   "cell_type": "code",
   "execution_count": null,
   "metadata": {},
   "outputs": [],
   "source": [
    "stream_of_reviews=stream_context.textFileStream(\"gs://big-data-streaming-examples\")"
   ]
  },
  {
   "cell_type": "code",
   "execution_count": null,
   "metadata": {},
   "outputs": [],
   "source": [
    "\n",
    "local_data={}\n",
    "local_data[\"total_count\"]=0\n",
    "local_data[\"one_line\"]=\"\"\n",
    "local_data[\"latest_processing_time\"]=\"\"\n",
    "\n",
    "\n",
    "\n",
    "def count_and_keep_one(time, rdd):\n",
    "    data=rdd.collect()\n",
    "    local_data[\"latest_processing_time\"]=time\n",
    "    local_data[\"total_count\"] += len(data)\n",
    "    if len(data)>0:\n",
    "        local_data[\"one_line\"]=data[0]\n",
    "    \n",
    "\n",
    "stream_of_reviews.map(lambda x: x).foreachRDD(count_and_keep_one)"
   ]
  },
  {
   "cell_type": "code",
   "execution_count": null,
   "metadata": {},
   "outputs": [],
   "source": [
    "print(\"Number of lines processed: \"+str(local_data[\"total_count\"]))\n",
    "print(\"Latest processing time: \"+str(local_data[\"latest_processing_time\"]))\n",
    "print(\"Example of a line from latest batch: \"+local_data[\"one_line\"])"
   ]
  },
  {
   "cell_type": "code",
   "execution_count": null,
   "metadata": {},
   "outputs": [],
   "source": [
    "stream_context.start()"
   ]
  },
  {
   "cell_type": "code",
   "execution_count": null,
   "metadata": {},
   "outputs": [],
   "source": [
    "stream_context.stop(False)"
   ]
  },
  {
   "cell_type": "code",
   "execution_count": 1,
   "metadata": {},
   "outputs": [],
   "source": [
    "from pyspark.streaming import StreamingContext\n",
    "import json\n",
    "batchIntervalSeconds = 10\n",
    "ssc = StreamingContext(sc, batchIntervalSeconds)\n",
    "lines=ssc.textFileStream(\"gs://big-data-streaming-examples\")\n",
    "ratings=lines.map(lambda x: json.loads(x)[\"rating\"]).map(lambda x: (x, 1)).reduceByKey(lambda x, y: x + y)\n",
    "\n",
    "rating_dist={}\n",
    "for i in range(11):\n",
    "    rating_dist[str(i)]=0\n",
    "    \n",
    "def process(time, rdd):\n",
    "    for r in rdd.collect():\n",
    "        rating_dist[str(r[0])]+=r[1]\n",
    "    \n",
    "ratings.foreachRDD(process)\n"
   ]
  },
  {
   "cell_type": "code",
   "execution_count": 2,
   "metadata": {},
   "outputs": [],
   "source": [
    "ssc.start()"
   ]
  },
  {
   "cell_type": "code",
   "execution_count": 21,
   "metadata": {},
   "outputs": [],
   "source": [
    "ssc.stop(False)"
   ]
  },
  {
   "cell_type": "code",
   "execution_count": 18,
   "metadata": {},
   "outputs": [
    {
     "data": {
      "text/plain": [
       "{'0': 0,\n",
       " '1': 27,\n",
       " '2': 24,\n",
       " '3': 37,\n",
       " '4': 75,\n",
       " '5': 123,\n",
       " '6': 263,\n",
       " '7': 443,\n",
       " '8': 505,\n",
       " '9': 310,\n",
       " '10': 274}"
      ]
     },
     "execution_count": 18,
     "metadata": {},
     "output_type": "execute_result"
    }
   ],
   "source": [
    "rating_dist"
   ]
  },
  {
   "cell_type": "code",
   "execution_count": 20,
   "metadata": {},
   "outputs": [
    {
     "data": {
      "text/plain": [
       "<matplotlib.axes._subplots.AxesSubplot at 0x7fda608a8c88>"
      ]
     },
     "execution_count": 20,
     "metadata": {},
     "output_type": "execute_result"
    },
    {
     "data": {
      "image/png": "[encoded data removed]",
      "text/plain": [
       "<Figure size 432x288 with 1 Axes>"
      ]
     },
     "metadata": {
      "needs_background": "light"
     },
     "output_type": "display_data"
    }
   ],
   "source": [
    "import seaborn as sns\n",
    "import pandas as pd\n",
    "%matplotlib inline\n",
    "\n",
    "sns.barplot(data=pd.DataFrame([rating_dist.values()]))"
   ]
  },
  {
   "cell_type": "code",
   "execution_count": null,
   "metadata": {},
   "outputs": [],
   "source": []
  }
 ],
 "metadata": {
  "kernelspec": {
   "display_name": "PySpark",
   "language": "python",
   "name": "pyspark"
  },
  "language_info": {
   "codemirror_mode": {
    "name": "ipython",
    "version": 3
   },
   "file_extension": ".py",
   "mimetype": "text/x-python",
   "name": "python",
   "nbconvert_exporter": "python",
   "pygments_lexer": "ipython3",
   "version": "3.6.5"
  }
 },
 "nbformat": 4,
 "nbformat_minor": 2
}