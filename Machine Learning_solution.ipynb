{
 "cells": [
  {
   "cell_type": "markdown",
   "metadata": {},
   "source": [
    "# Large Scale Machine Learning\n",
    "\n",
    "In this hands-on we will work with machine learning on a large dataset. The dataset is a very famous image recognition dataset named MNIST ( https://en.wikipedia.org/wiki/MNIST_database ). The dataset contains a large number of grayscale images of handwritten digits. For this exercise we will use the machine learning algorithm called k-nearest neighbours (KNN) with k=1, which is one of the simplest machine learning algorithms. \n",
    "\n",
    "Start by loading the data into a Spark dataframe."
   ]
  },
  {
   "cell_type": "code",
   "execution_count": 1,
   "metadata": {},
   "outputs": [],
   "source": [
    "train_data=spark.read.csv(\"gs://big-data-course-datasets/mnist/mnist_train_sample.csv\", header=True).cache()"
   ]
  },
  {
   "cell_type": "markdown",
   "metadata": {},
   "source": [
    "We can take a look at the first row of the data to get an idea of how it looks."
   ]
  },
  {
   "cell_type": "code",
   "execution_count": 2,
   "metadata": {},
   "outputs": [
    {
     "data": {
      "text/plain": [
       "[Row(label='5', 1x1='0', 1x2='0', 1x3='0', 1x4='0', 1x5='0', 1x6='0', 1x7='0', 1x8='0', 1x9='0', 1x10='0', 1x11='0', 1x12='0', 1x13='0', 1x14='0', 1x15='0', 1x16='0', 1x17='0', 1x18='0', 1x19='0', 1x20='0', 1x21='0', 1x22='0', 1x23='0', 1x24='0', 1x25='0', 1x26='0', 1x27='0', 1x28='0', 2x1='0', 2x2='0', 2x3='0', 2x4='0', 2x5='0', 2x6='0', 2x7='0', 2x8='0', 2x9='0', 2x10='0', 2x11='0', 2x12='0', 2x13='0', 2x14='0', 2x15='0', 2x16='0', 2x17='0', 2x18='0', 2x19='0', 2x20='0', 2x21='0', 2x22='0', 2x23='0', 2x24='0', 2x25='0', 2x26='0', 2x27='0', 2x28='0', 3x1='0', 3x2='0', 3x3='0', 3x4='0', 3x5='0', 3x6='0', 3x7='0', 3x8='0', 3x9='0', 3x10='0', 3x11='0', 3x12='0', 3x13='0', 3x14='0', 3x15='0', 3x16='0', 3x17='0', 3x18='0', 3x19='0', 3x20='0', 3x21='0', 3x22='0', 3x23='0', 3x24='0', 3x25='0', 3x26='0', 3x27='0', 3x28='0', 4x1='0', 4x2='0', 4x3='0', 4x4='0', 4x5='0', 4x6='0', 4x7='0', 4x8='0', 4x9='0', 4x10='0', 4x11='0', 4x12='0', 4x13='0', 4x14='0', 4x15='0', 4x16='0', 4x17='0', 4x18='0', 4x19='0', 4x20='0', 4x21='0', 4x22='0', 4x23='0', 4x24='0', 4x25='0', 4x26='0', 4x27='0', 4x28='0', 5x1='0', 5x2='0', 5x3='0', 5x4='0', 5x5='0', 5x6='0', 5x7='0', 5x8='0', 5x9='0', 5x10='0', 5x11='0', 5x12='0', 5x13='0', 5x14='0', 5x15='0', 5x16='0', 5x17='0', 5x18='0', 5x19='0', 5x20='0', 5x21='0', 5x22='0', 5x23='0', 5x24='0', 5x25='0', 5x26='0', 5x27='0', 5x28='0', 6x1='0', 6x2='0', 6x3='0', 6x4='0', 6x5='0', 6x6='0', 6x7='0', 6x8='0', 6x9='0', 6x10='0', 6x11='0', 6x12='0', 6x13='3', 6x14='18', 6x15='18', 6x16='18', 6x17='126', 6x18='136', 6x19='175', 6x20='26', 6x21='166', 6x22='255', 6x23='247', 6x24='127', 6x25='0', 6x26='0', 6x27='0', 6x28='0', 7x1='0', 7x2='0', 7x3='0', 7x4='0', 7x5='0', 7x6='0', 7x7='0', 7x8='0', 7x9='30', 7x10='36', 7x11='94', 7x12='154', 7x13='170', 7x14='253', 7x15='253', 7x16='253', 7x17='253', 7x18='253', 7x19='225', 7x20='172', 7x21='253', 7x22='242', 7x23='195', 7x24='64', 7x25='0', 7x26='0', 7x27='0', 7x28='0', 8x1='0', 8x2='0', 8x3='0', 8x4='0', 8x5='0', 8x6='0', 8x7='0', 8x8='49', 8x9='238', 8x10='253', 8x11='253', 8x12='253', 8x13='253', 8x14='253', 8x15='253', 8x16='253', 8x17='253', 8x18='251', 8x19='93', 8x20='82', 8x21='82', 8x22='56', 8x23='39', 8x24='0', 8x25='0', 8x26='0', 8x27='0', 8x28='0', 9x1='0', 9x2='0', 9x3='0', 9x4='0', 9x5='0', 9x6='0', 9x7='0', 9x8='18', 9x9='219', 9x10='253', 9x11='253', 9x12='253', 9x13='253', 9x14='253', 9x15='198', 9x16='182', 9x17='247', 9x18='241', 9x19='0', 9x20='0', 9x21='0', 9x22='0', 9x23='0', 9x24='0', 9x25='0', 9x26='0', 9x27='0', 9x28='0', 10x1='0', 10x2='0', 10x3='0', 10x4='0', 10x5='0', 10x6='0', 10x7='0', 10x8='0', 10x9='80', 10x10='156', 10x11='107', 10x12='253', 10x13='253', 10x14='205', 10x15='11', 10x16='0', 10x17='43', 10x18='154', 10x19='0', 10x20='0', 10x21='0', 10x22='0', 10x23='0', 10x24='0', 10x25='0', 10x26='0', 10x27='0', 10x28='0', 11x1='0', 11x2='0', 11x3='0', 11x4='0', 11x5='0', 11x6='0', 11x7='0', 11x8='0', 11x9='0', 11x10='14', 11x11='1', 11x12='154', 11x13='253', 11x14='90', 11x15='0', 11x16='0', 11x17='0', 11x18='0', 11x19='0', 11x20='0', 11x21='0', 11x22='0', 11x23='0', 11x24='0', 11x25='0', 11x26='0', 11x27='0', 11x28='0', 12x1='0', 12x2='0', 12x3='0', 12x4='0', 12x5='0', 12x6='0', 12x7='0', 12x8='0', 12x9='0', 12x10='0', 12x11='0', 12x12='139', 12x13='253', 12x14='190', 12x15='2', 12x16='0', 12x17='0', 12x18='0', 12x19='0', 12x20='0', 12x21='0', 12x22='0', 12x23='0', 12x24='0', 12x25='0', 12x26='0', 12x27='0', 12x28='0', 13x1='0', 13x2='0', 13x3='0', 13x4='0', 13x5='0', 13x6='0', 13x7='0', 13x8='0', 13x9='0', 13x10='0', 13x11='0', 13x12='11', 13x13='190', 13x14='253', 13x15='70', 13x16='0', 13x17='0', 13x18='0', 13x19='0', 13x20='0', 13x21='0', 13x22='0', 13x23='0', 13x24='0', 13x25='0', 13x26='0', 13x27='0', 13x28='0', 14x1='0', 14x2='0', 14x3='0', 14x4='0', 14x5='0', 14x6='0', 14x7='0', 14x8='0', 14x9='0', 14x10='0', 14x11='0', 14x12='0', 14x13='35', 14x14='241', 14x15='225', 14x16='160', 14x17='108', 14x18='1', 14x19='0', 14x20='0', 14x21='0', 14x22='0', 14x23='0', 14x24='0', 14x25='0', 14x26='0', 14x27='0', 14x28='0', 15x1='0', 15x2='0', 15x3='0', 15x4='0', 15x5='0', 15x6='0', 15x7='0', 15x8='0', 15x9='0', 15x10='0', 15x11='0', 15x12='0', 15x13='0', 15x14='81', 15x15='240', 15x16='253', 15x17='253', 15x18='119', 15x19='25', 15x20='0', 15x21='0', 15x22='0', 15x23='0', 15x24='0', 15x25='0', 15x26='0', 15x27='0', 15x28='0', 16x1='0', 16x2='0', 16x3='0', 16x4='0', 16x5='0', 16x6='0', 16x7='0', 16x8='0', 16x9='0', 16x10='0', 16x11='0', 16x12='0', 16x13='0', 16x14='0', 16x15='45', 16x16='186', 16x17='253', 16x18='253', 16x19='150', 16x20='27', 16x21='0', 16x22='0', 16x23='0', 16x24='0', 16x25='0', 16x26='0', 16x27='0', 16x28='0', 17x1='0', 17x2='0', 17x3='0', 17x4='0', 17x5='0', 17x6='0', 17x7='0', 17x8='0', 17x9='0', 17x10='0', 17x11='0', 17x12='0', 17x13='0', 17x14='0', 17x15='0', 17x16='16', 17x17='93', 17x18='252', 17x19='253', 17x20='187', 17x21='0', 17x22='0', 17x23='0', 17x24='0', 17x25='0', 17x26='0', 17x27='0', 17x28='0', 18x1='0', 18x2='0', 18x3='0', 18x4='0', 18x5='0', 18x6='0', 18x7='0', 18x8='0', 18x9='0', 18x10='0', 18x11='0', 18x12='0', 18x13='0', 18x14='0', 18x15='0', 18x16='0', 18x17='0', 18x18='249', 18x19='253', 18x20='249', 18x21='64', 18x22='0', 18x23='0', 18x24='0', 18x25='0', 18x26='0', 18x27='0', 18x28='0', 19x1='0', 19x2='0', 19x3='0', 19x4='0', 19x5='0', 19x6='0', 19x7='0', 19x8='0', 19x9='0', 19x10='0', 19x11='0', 19x12='0', 19x13='0', 19x14='0', 19x15='46', 19x16='130', 19x17='183', 19x18='253', 19x19='253', 19x20='207', 19x21='2', 19x22='0', 19x23='0', 19x24='0', 19x25='0', 19x26='0', 19x27='0', 19x28='0', 20x1='0', 20x2='0', 20x3='0', 20x4='0', 20x5='0', 20x6='0', 20x7='0', 20x8='0', 20x9='0', 20x10='0', 20x11='0', 20x12='0', 20x13='39', 20x14='148', 20x15='229', 20x16='253', 20x17='253', 20x18='253', 20x19='250', 20x20='182', 20x21='0', 20x22='0', 20x23='0', 20x24='0', 20x25='0', 20x26='0', 20x27='0', 20x28='0', 21x1='0', 21x2='0', 21x3='0', 21x4='0', 21x5='0', 21x6='0', 21x7='0', 21x8='0', 21x9='0', 21x10='0', 21x11='24', 21x12='114', 21x13='221', 21x14='253', 21x15='253', 21x16='253', 21x17='253', 21x18='201', 21x19='78', 21x20='0', 21x21='0', 21x22='0', 21x23='0', 21x24='0', 21x25='0', 21x26='0', 21x27='0', 21x28='0', 22x1='0', 22x2='0', 22x3='0', 22x4='0', 22x5='0', 22x6='0', 22x7='0', 22x8='0', 22x9='23', 22x10='66', 22x11='213', 22x12='253', 22x13='253', 22x14='253', 22x15='253', 22x16='198', 22x17='81', 22x18='2', 22x19='0', 22x20='0', 22x21='0', 22x22='0', 22x23='0', 22x24='0', 22x25='0', 22x26='0', 22x27='0', 22x28='0', 23x1='0', 23x2='0', 23x3='0', 23x4='0', 23x5='0', 23x6='0', 23x7='18', 23x8='171', 23x9='219', 23x10='253', 23x11='253', 23x12='253', 23x13='253', 23x14='195', 23x15='80', 23x16='9', 23x17='0', 23x18='0', 23x19='0', 23x20='0', 23x21='0', 23x22='0', 23x23='0', 23x24='0', 23x25='0', 23x26='0', 23x27='0', 23x28='0', 24x1='0', 24x2='0', 24x3='0', 24x4='0', 24x5='55', 24x6='172', 24x7='226', 24x8='253', 24x9='253', 24x10='253', 24x11='253', 24x12='244', 24x13='133', 24x14='11', 24x15='0', 24x16='0', 24x17='0', 24x18='0', 24x19='0', 24x20='0', 24x21='0', 24x22='0', 24x23='0', 24x24='0', 24x25='0', 24x26='0', 24x27='0', 24x28='0', 25x1='0', 25x2='0', 25x3='0', 25x4='0', 25x5='136', 25x6='253', 25x7='253', 25x8='253', 25x9='212', 25x10='135', 25x11='132', 25x12='16', 25x13='0', 25x14='0', 25x15='0', 25x16='0', 25x17='0', 25x18='0', 25x19='0', 25x20='0', 25x21='0', 25x22='0', 25x23='0', 25x24='0', 25x25='0', 25x26='0', 25x27='0', 25x28='0', 26x1='0', 26x2='0', 26x3='0', 26x4='0', 26x5='0', 26x6='0', 26x7='0', 26x8='0', 26x9='0', 26x10='0', 26x11='0', 26x12='0', 26x13='0', 26x14='0', 26x15='0', 26x16='0', 26x17='0', 26x18='0', 26x19='0', 26x20='0', 26x21='0', 26x22='0', 26x23='0', 26x24='0', 26x25='0', 26x26='0', 26x27='0', 26x28='0', 27x1='0', 27x2='0', 27x3='0', 27x4='0', 27x5='0', 27x6='0', 27x7='0', 27x8='0', 27x9='0', 27x10='0', 27x11='0', 27x12='0', 27x13='0', 27x14='0', 27x15='0', 27x16='0', 27x17='0', 27x18='0', 27x19='0', 27x20='0', 27x21='0', 27x22='0', 27x23='0', 27x24='0', 27x25='0', 27x26='0', 27x27='0', 27x28='0', 28x1='0', 28x2='0', 28x3='0', 28x4='0', 28x5='0', 28x6='0', 28x7='0', 28x8='0', 28x9='0', 28x10='0', 28x11='0', 28x12='0', 28x13='0', 28x14='0', 28x15='0', 28x16='0', 28x17='0', 28x18='0', 28x19='0', 28x20='0', 28x21='0', 28x22='0', 28x23='0', 28x24='0', 28x25='0', 28x26='0', 28x27='0', 28x28='0')]"
      ]
     },
     "execution_count": 2,
     "metadata": {},
     "output_type": "execute_result"
    }
   ],
   "source": [
    "train_data.take(1)"
   ]
  },
  {
   "cell_type": "markdown",
   "metadata": {},
   "source": [
    "We can see that the first column of the data is the \"label\", which means that it is the digit shown in the image. The rest of the columns are the 28x28 pixels of the gray-scale image.\n",
    "\n",
    "This way of looking at data is not very helpfull. Fortunately, we can visualize it in a better way. We define a function that takes a row of the data and constructs the gray-scale image."
   ]
  },
  {
   "cell_type": "code",
   "execution_count": 3,
   "metadata": {},
   "outputs": [],
   "source": [
    "import matplotlib.pyplot as plt\n",
    "import numpy as np\n",
    "\n",
    "def showImage(row):\n",
    "    print(\"Label: \"+str(row[\"label\"])) # Print the correct label of the image\n",
    "    pixels=list(map(lambda x: int(x), row.asDict().values()))[1:] # Convert the Row-object to a raw list of integers\n",
    "    image=np.array(pixels).reshape([28,28]) # Turn the list into a 2-dimensional array\n",
    "    plt.imshow(image, cmap='gray_r') \n",
    "    plt.show()"
   ]
  },
  {
   "cell_type": "markdown",
   "metadata": {},
   "source": [
    "Show the first ten rows as images:"
   ]
  },
  {
   "cell_type": "code",
   "execution_count": 4,
   "metadata": {},
   "outputs": [
    {
     "name": "stdout",
     "output_type": "stream",
     "text": [
      "Label: 5\n"
     ]
    },
    {
     "data": {
      "image/png": "[encoded data removed]",
      "text/plain": [
       "<Figure size 432x288 with 1 Axes>"
      ]
     },
     "metadata": {
      "needs_background": "light"
     },
     "output_type": "display_data"
    },
    {
     "name": "stdout",
     "output_type": "stream",
     "text": [
      "Label: 0\n"
     ]
    },
    {
     "data": {
      "image/png": "[encoded data removed]",
      "text/plain": [
       "<Figure size 432x288 with 1 Axes>"
      ]
     },
     "metadata": {
      "needs_background": "light"
     },
     "output_type": "display_data"
    },
    {
     "name": "stdout",
     "output_type": "stream",
     "text": [
      "Label: 4\n"
     ]
    },
    {
     "data": {
      "image/png": "[encoded data removed]",
      "text/plain": [
       "<Figure size 432x288 with 1 Axes>"
      ]
     },
     "metadata": {
      "needs_background": "light"
     },
     "output_type": "display_data"
    },
    {
     "name": "stdout",
     "output_type": "stream",
     "text": [
      "Label: 1\n"
     ]
    },
    {
     "data": {
      "image/png": "[encoded data removed]",
      "text/plain": [
       "<Figure size 432x288 with 1 Axes>"
      ]
     },
     "metadata": {
      "needs_background": "light"
     },
     "output_type": "display_data"
    },
    {
     "name": "stdout",
     "output_type": "stream",
     "text": [
      "Label: 9\n"
     ]
    },
    {
     "data": {
      "image/png": "[encoded data removed]",
      "text/plain": [
       "<Figure size 432x288 with 1 Axes>"
      ]
     },
     "metadata": {
      "needs_background": "light"
     },
     "output_type": "display_data"
    },
    {
     "name": "stdout",
     "output_type": "stream",
     "text": [
      "Label: 2\n"
     ]
    },
    {
     "data": {
      "image/png": "[encoded data removed]",
      "text/plain": [
       "<Figure size 432x288 with 1 Axes>"
      ]
     },
     "metadata": {
      "needs_background": "light"
     },
     "output_type": "display_data"
    },
    {
     "name": "stdout",
     "output_type": "stream",
     "text": [
      "Label: 1\n"
     ]
    },
    {
     "data": {
      "image/png": "[encoded data removed]",
      "text/plain": [
       "<Figure size 432x288 with 1 Axes>"
      ]
     },
     "metadata": {
      "needs_background": "light"
     },
     "output_type": "display_data"
    },
    {
     "name": "stdout",
     "output_type": "stream",
     "text": [
      "Label: 3\n"
     ]
    },
    {
     "data": {
      "image/png": "[encoded data removed]",
      "text/plain": [
       "<Figure size 432x288 with 1 Axes>"
      ]
     },
     "metadata": {
      "needs_background": "light"
     },
     "output_type": "display_data"
    },
    {
     "name": "stdout",
     "output_type": "stream",
     "text": [
      "Label: 1\n"
     ]
    },
    {
     "data": {
      "image/png": "[encoded data removed]",
      "text/plain": [
       "<Figure size 432x288 with 1 Axes>"
      ]
     },
     "metadata": {
      "needs_background": "light"
     },
     "output_type": "display_data"
    },
    {
     "name": "stdout",
     "output_type": "stream",
     "text": [
      "Label: 4\n"
     ]
    },
    {
     "data": {
      "image/png": "[encoded data removed]",
      "text/plain": [
       "<Figure size 432x288 with 1 Axes>"
      ]
     },
     "metadata": {
      "needs_background": "light"
     },
     "output_type": "display_data"
    }
   ],
   "source": [
    "for row in train_data.take(10):\n",
    "    showImage(row)"
   ]
  },
  {
   "cell_type": "markdown",
   "metadata": {},
   "source": [
    "We are now ready to implement the KNN-algorithm for k=1. The algorithm simply classifies an image by finding the \"closest\" image in the training data and outputting that label. \n",
    "\n",
    "To see how well the algorithm works we load some test data, which has no overlap with the training data, but is otherwise similar."
   ]
  },
  {
   "cell_type": "code",
   "execution_count": 5,
   "metadata": {},
   "outputs": [],
   "source": [
    "test_data=spark.read.csv(\"gs://big-data-course-datasets/mnist/mnist_test_sample.csv\", header=True).cache()"
   ]
  },
  {
   "cell_type": "markdown",
   "metadata": {},
   "source": [
    "For the algorithm to work, we need a distance function that can return some measure of how different two images are. There are multiple different ways of specifying this distance, but one of the simplest is just to sum the numerical difference of each pixel."
   ]
  },
  {
   "cell_type": "code",
   "execution_count": 6,
   "metadata": {},
   "outputs": [],
   "source": [
    "def imageDistance(pixels1, pixels2):\n",
    "    dist=0\n",
    "    for i in range(len(pixels1)):\n",
    "        dist+=abs(pixels1[i]-pixels2[i])\n",
    "    return dist"
   ]
  },
  {
   "cell_type": "markdown",
   "metadata": {},
   "source": [
    "Let us also define a little function for extracting the raw pixelvalues from a row:"
   ]
  },
  {
   "cell_type": "code",
   "execution_count": 7,
   "metadata": {},
   "outputs": [],
   "source": [
    "def row2pixels(row):\n",
    "    return list(map(lambda x: int(x), row.asDict().values()))[1:]"
   ]
  },
  {
   "cell_type": "markdown",
   "metadata": {},
   "source": [
    "Lets test the function by comparing the first two images of the training data:"
   ]
  },
  {
   "cell_type": "code",
   "execution_count": 8,
   "metadata": {},
   "outputs": [
    {
     "data": {
      "text/plain": [
       "29506"
      ]
     },
     "execution_count": 8,
     "metadata": {},
     "output_type": "execute_result"
    }
   ],
   "source": [
    "row1, row2 = train_data.take(2)\n",
    "imageDistance(row2pixels(row1), row2pixels(row2))"
   ]
  },
  {
   "cell_type": "code",
   "execution_count": 14,
   "metadata": {},
   "outputs": [],
   "source": [
    "test_image=test_data.take(10)[1]"
   ]
  },
  {
   "cell_type": "code",
   "execution_count": 15,
   "metadata": {},
   "outputs": [
    {
     "name": "stdout",
     "output_type": "stream",
     "text": [
      "Label: 2\n"
     ]
    },
    {
     "data": {
      "image/png": "[encoded data removed]",
      "text/plain": [
       "<Figure size 432x288 with 1 Axes>"
      ]
     },
     "metadata": {
      "needs_background": "light"
     },
     "output_type": "display_data"
    }
   ],
   "source": [
    "showImage(test_image)"
   ]
  },
  {
   "cell_type": "code",
   "execution_count": 16,
   "metadata": {},
   "outputs": [],
   "source": [
    "def closestTrainingImage(test_image):\n",
    "    return train_data.rdd \\\n",
    "       .map(lambda row: (imageDistance(row2pixels(row), row2pixels(test_image)), row)) \\\n",
    "       .sortByKey() \\\n",
    "       .take(1)[0][1]"
   ]
  },
  {
   "cell_type": "code",
   "execution_count": 17,
   "metadata": {},
   "outputs": [],
   "source": [
    "closest=closestTrainingImage(test_image)"
   ]
  },
  {
   "cell_type": "code",
   "execution_count": 18,
   "metadata": {},
   "outputs": [
    {
     "name": "stdout",
     "output_type": "stream",
     "text": [
      "Label: 2\n"
     ]
    },
    {
     "data": {
      "image/png": "[encoded data removed]",
      "text/plain": [
       "<Figure size 432x288 with 1 Axes>"
      ]
     },
     "metadata": {
      "needs_background": "light"
     },
     "output_type": "display_data"
    }
   ],
   "source": [
    "showImage(closest)"
   ]
  },
  {
   "cell_type": "code",
   "execution_count": null,
   "metadata": {},
   "outputs": [],
   "source": []
  }
 ],
 "metadata": {
  "kernelspec": {
   "display_name": "PySpark",
   "language": "python",
   "name": "pyspark"
  },
  "language_info": {
   "codemirror_mode": {
    "name": "ipython",
    "version": 3
   },
   "file_extension": ".py",
   "mimetype": "text/x-python",
   "name": "python",
   "nbconvert_exporter": "python",
   "pygments_lexer": "ipython3",
   "version": "3.6.5"
  }
 },
 "nbformat": 4,
 "nbformat_minor": 2
}