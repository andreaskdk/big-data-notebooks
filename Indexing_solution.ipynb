{
 "cells": [
  {
   "cell_type": "markdown",
   "metadata": {},
   "source": [
    "# Indexing\n",
    "\n",
    "In this hands-on exercise we will work with indexing data in BigTable, which is very similar to the open source project called HBase. \n",
    "\n",
    "We will all write to the same BigTable instance, so in order to have different tablenames we use the studentID, so please start by changing that to something else!"
   ]
  },
  {
   "cell_type": "code",
   "execution_count": 1,
   "metadata": {},
   "outputs": [],
   "source": [
    "# Should be changed!\n",
    "studentID=\"00\""
   ]
  },
  {
   "cell_type": "code",
   "execution_count": 2,
   "metadata": {},
   "outputs": [],
   "source": [
    "from google.cloud import bigtable\n",
    "from google.cloud.bigtable import column_family\n",
    "from google.cloud.bigtable import row_filters\n",
    "import datetime\n",
    "import json"
   ]
  },
  {
   "cell_type": "markdown",
   "metadata": {},
   "source": [
    "First, we need to set up the client for accessing BigTable"
   ]
  },
  {
   "cell_type": "code",
   "execution_count": 3,
   "metadata": {},
   "outputs": [],
   "source": [
    "project_id=\"big-data-course-235920\"\n",
    "instance_id=\"big-data-course-bigtable\"\n",
    "table_id=\"songstable\"+studentID\n",
    "\n",
    "client = bigtable.Client(project=project_id, admin=True).instance(instance_id)"
   ]
  },
  {
   "cell_type": "markdown",
   "metadata": {},
   "source": [
    "Then we will use the client to create a table. In order for the table to hold any data, at least one column family needs to be created. We will create a column family named \"cf\". There is a feature in BigTable and HBase, which means that when a row is overwritten the previous value is stored and can be retrieved. When a column family is created it must be configured how many versions of the row is retained. We will not use this feature and therefore set the number of versions to store to just one. "
   ]
  },
  {
   "cell_type": "code",
   "execution_count": 4,
   "metadata": {},
   "outputs": [
    {
     "name": "stdout",
     "output_type": "stream",
     "text": [
      "Table songstable00 already exists.\n"
     ]
    }
   ],
   "source": [
    "table = client.table(table_id)\n",
    "column_family_id=\"cf\"\n",
    "column_families = {column_family_id: column_family.MaxVersionsGCRule(1)}\n",
    "if not table.exists():\n",
    "    table.create(column_families=column_families)\n",
    "else:\n",
    "    print(\"Table {} already exists.\".format(table_id))\n",
    "    table.truncate(timeout=200)"
   ]
  },
  {
   "cell_type": "markdown",
   "metadata": {},
   "source": [
    "Once the table is created it can be seen in the web-client.\n",
    "\n",
    "Now, we will put some data in the table. A sample row from the One Million Songs dataset looks like this:\n",
    "\n",
    "| Artist | Song              | Year | Duration  | Loudness | Key | Tempo   |\n",
    "|--------|-------------------|------|-----------|----------|-----|---------|\n",
    "| Queen  | Bohemian Rhapsody | 1975 | 354.2722  | -10.872  | 10  | 71.568  |\n",
    "| Queen  | Under Pressure    | 1986 | 227.36934 | -5.906   | 2   | 123.966 |\n",
    "\n",
    "If we want to put these in a table, so that we can look up any artist and get the songs of that artist in order of the release year. What would the rowkey look like for this?"
   ]
  },
  {
   "cell_type": "markdown",
   "metadata": {},
   "source": [
    "If we just want to put two rows into the table it can be done like this:"
   ]
  },
  {
   "cell_type": "code",
   "execution_count": 5,
   "metadata": {},
   "outputs": [
    {
     "data": {
      "text/plain": [
       "2"
      ]
     },
     "execution_count": 5,
     "metadata": {},
     "output_type": "execute_result"
    }
   ],
   "source": [
    "songs=spark.sparkContext.parallelize([{\"artist\": \"Queen\", \"year\": \"1974\", \"track_name\": \"Bohemian Rhapsody\"}, \n",
    "                   {\"artist\": \"Queen\", \"year\": \"1986\", \"track_name\": \"Under Pressure\"}])\n",
    "\n",
    "def create_row(song):\n",
    "    client = bigtable.Client(project=project_id, admin=True).instance(instance_id)\n",
    "    table = client.table(table_id)\n",
    "    row_key=song[\"track_name\"].encode()\n",
    "    row=table.row(row_key)\n",
    "    row.set_cell(column_family_id,\n",
    "                \"song\".encode(),\n",
    "                json.dumps(song).encode())\n",
    "    table.mutate_rows([row])\n",
    "    return True\n",
    "\n",
    "songs_indexed=songs.map(lambda song: create_row(song)).count()\n",
    "songs_indexed"
   ]
  },
  {
   "cell_type": "markdown",
   "metadata": {},
   "source": [
    "### Retrieving one row\n",
    "\n",
    "We can get one row from the table if we know the rowkey. "
   ]
  },
  {
   "cell_type": "code",
   "execution_count": 6,
   "metadata": {},
   "outputs": [
    {
     "name": "stdout",
     "output_type": "stream",
     "text": [
      "{\"artist\": \"Queen\", \"year\": \"1974\", \"track_name\": \"Bohemian Rhapsody\"}\n"
     ]
    }
   ],
   "source": [
    "key = \"Bohemian Rhapsody\".encode()\n",
    "\n",
    "row = table.read_row(key)\n",
    "cell = row.cells[column_family_id][\"song\".encode()][0]\n",
    "print(cell.value.decode('utf-8'))"
   ]
  },
  {
   "cell_type": "markdown",
   "metadata": {},
   "source": [
    "### Scanning all the rows\n",
    "\n",
    "Since we only have to rows in the table, it is possible to scan the full table. This can be done with the "
   ]
  },
  {
   "cell_type": "code",
   "execution_count": 7,
   "metadata": {},
   "outputs": [
    {
     "name": "stdout",
     "output_type": "stream",
     "text": [
      "{\"artist\": \"Queen\", \"year\": \"1974\", \"track_name\": \"Bohemian Rhapsody\"}\n",
      "{\"artist\": \"Queen\", \"year\": \"1986\", \"track_name\": \"Under Pressure\"}\n"
     ]
    }
   ],
   "source": [
    "partial_rows = table.read_rows()\n",
    "\n",
    "for row in partial_rows:\n",
    "    cell = row.cells[column_family_id][\"song\".encode()][0]\n",
    "    print(cell.value.decode('utf-8'))\n"
   ]
  },
  {
   "cell_type": "markdown",
   "metadata": {},
   "source": [
    "### Scanning from one rowkey to another\n",
    "\n",
    "We can specify where to start scanning and where to end. Below we scan from \"A\" to \"Z\" and therefore we get both rows. Try to change the start_key and end_key and see how it affects the results."
   ]
  },
  {
   "cell_type": "code",
   "execution_count": 8,
   "metadata": {},
   "outputs": [
    {
     "name": "stdout",
     "output_type": "stream",
     "text": [
      "{\"artist\": \"Queen\", \"year\": \"1974\", \"track_name\": \"Bohemian Rhapsody\"}\n",
      "{\"artist\": \"Queen\", \"year\": \"1986\", \"track_name\": \"Under Pressure\"}\n"
     ]
    }
   ],
   "source": [
    "scanned_rows = table.read_rows(start_key=\"A\".encode(), end_key=\"Z\".encode())\n",
    "\n",
    "for row in scanned_rows:\n",
    "    cell = row.cells[column_family_id][\"song\".encode()][0]\n",
    "    print(cell.value.decode('utf-8'))"
   ]
  },
  {
   "cell_type": "markdown",
   "metadata": {},
   "source": [
    "We can delete all rows from the table with the truncate() function."
   ]
  },
  {
   "cell_type": "code",
   "execution_count": 9,
   "metadata": {},
   "outputs": [],
   "source": [
    "table.truncate(timeout=200)"
   ]
  },
  {
   "cell_type": "markdown",
   "metadata": {},
   "source": [
    "### Indexing more songs\n",
    "\n",
    "We are now ready to index more songs. We will work with the songs of artists that start with \"Queen\". There should be 457 of those.\n",
    "\n",
    "Our task is to load data into the the table, such that we can retrieve all the songs by \"Queen\", \"Queens Club\", \"Queens Of The Stone Age\" etc. ordered by release year. For some songs the year is zero. Don't worry about those."
   ]
  },
  {
   "cell_type": "code",
   "execution_count": 10,
   "metadata": {},
   "outputs": [],
   "source": [
    "all_queen_songs=spark.read.csv(\"gs://big-data-course-datasets/one-million-songs/one-million-songs.csv\", header=True).rdd \\\n",
    "  .filter(lambda x: x[\"artist_name\"].startswith(\"Queen\"))"
   ]
  },
  {
   "cell_type": "code",
   "execution_count": 11,
   "metadata": {},
   "outputs": [
    {
     "data": {
      "text/plain": [
       "[Row(artist_name='Queen + Paul Rodgers', track_name='I Want To Break Free (Live In Ukraine)', year='0', duration='235.25832', loudness='-8.141', key='2', tempo='114.133'),\n",
       " Row(artist_name='Queen Latifah', track_name=\"Name Callin' (Explicit Soundtrack LP Version)\", year='0', duration='230.66077', loudness='-7.852', key='0', tempo='86.097'),\n",
       " Row(artist_name='Queen Omega', track_name='Brighter Day', year='0', duration='200.22812', loudness='-9.216', key='7', tempo='133.917'),\n",
       " Row(artist_name='Queen', track_name='Love Of My Life', year='1975', duration='262.19057', loudness='-13.386', key='2', tempo='77.464'),\n",
       " Row(artist_name='Queens Club', track_name='Lydia', year='0', duration='168.85506', loudness='-3.763', key='2', tempo='140.979'),\n",
       " Row(artist_name='Queens Of The Stone Age', track_name='Better Living Through Chemistry', year='2000', duration='349.20444', loudness='-7.478', key='7', tempo='111.433'),\n",
       " Row(artist_name='Queen', track_name='Dear Friends (1993 Digital Remaster)', year='1974', duration='68.64934', loudness='-18.707', key='2', tempo='67.584'),\n",
       " Row(artist_name='Queens Of The Stone Age', track_name='Mosquito Song', year='2002', duration='337.94567', loudness='-9.415', key='5', tempo='98.603'),\n",
       " Row(artist_name='Queen Ifrica', track_name='Daddy Dont Touch Me There', year='0', duration='236.77342', loudness='-4.215', key='11', tempo='96.409'),\n",
       " Row(artist_name='Queen', track_name='Breakthru', year='1989', duration='247.71873', loudness='-13.475', key='10', tempo='180.291')]"
      ]
     },
     "execution_count": 11,
     "metadata": {},
     "output_type": "execute_result"
    }
   ],
   "source": [
    "all_queen_songs.take(10)"
   ]
  },
  {
   "cell_type": "code",
   "execution_count": 12,
   "metadata": {},
   "outputs": [
    {
     "data": {
      "text/plain": [
       "457"
      ]
     },
     "execution_count": 12,
     "metadata": {},
     "output_type": "execute_result"
    }
   ],
   "source": [
    "def create_row(song):\n",
    "    client  = bigtable.Client(project=project_id, admin=True).instance(instance_id)\n",
    "    table = client.table(table_id)\n",
    "    row_key=song[\"artist_name\"].encode() + b\"\\xff\\x00\" \\\n",
    "            + song[\"year\"].encode() + b\"\\xff\\x00\" \\\n",
    "            + song[\"track_name\"].encode() + b\"\\xff\\00\"\n",
    "    row=table.row(row_key)\n",
    "    row.set_cell(column_family_id,\n",
    "                \"song\".encode(),\n",
    "                json.dumps({\"artist_name\": song[\"artist_name\"],\n",
    "                            \"track_name\": song[\"track_name\"],\n",
    "                            \"year\": song[\"year\"]\n",
    "                            }).encode())\n",
    "    table.mutate_rows([row])\n",
    "    return True\n",
    "\n",
    "songs_indexed=all_queen_songs.map(lambda song: create_row(song)).count()\n",
    "songs_indexed"
   ]
  },
  {
   "cell_type": "code",
   "execution_count": 13,
   "metadata": {},
   "outputs": [
    {
     "name": "stdout",
     "output_type": "stream",
     "text": [
      "{'artist_name': 'Queen', 'track_name': \"'39 (Live) (1994 Digital Remaster)\", 'year': '0'}\n",
      "{'artist_name': 'Queen', 'track_name': 'A Human Body (2009 Digital Remaster)', 'year': '0'}\n",
      "{'artist_name': 'Queen', 'track_name': 'Another One Bites The Dust (Live)', 'year': '0'}\n",
      "{'artist_name': 'Queen', 'track_name': 'Bicycle Race (2008 Digital Remaster)', 'year': '0'}\n",
      "{'artist_name': 'Queen', 'track_name': 'Big Spender (Live)', 'year': '0'}\n",
      "{'artist_name': 'Queen', 'track_name': 'Bohemian Rhapsody (2008 Digital Remaster)', 'year': '0'}\n",
      "{'artist_name': 'Queen', 'track_name': 'Bohemian Rhapsody (Live In Frankfurt Bootleg)', 'year': '0'}\n",
      "{'artist_name': 'Queen', 'track_name': 'Crazy Little Thing Called Love (Live In Montreal)', 'year': '0'}\n",
      "{'artist_name': 'Queen', 'track_name': 'Death On Two Legs (Dedicated To....) (Live) (1994 Digital Remaster)', 'year': '0'}\n",
      "{'artist_name': 'Queen', 'track_name': 'Fat Bottomed Girls (2008 Digital Remaster)', 'year': '0'}\n",
      "{'artist_name': 'Queen', 'track_name': 'Get Down Make Love (Live In Montreal)', 'year': '0'}\n",
      "{'artist_name': 'Queen', 'track_name': 'Good Old Fashioned Lover Boy (2008 Digital Remaster)', 'year': '0'}\n",
      "{'artist_name': 'Queen', 'track_name': 'Hammer To Fall (Live)', 'year': '0'}\n",
      "{'artist_name': 'Queen', 'track_name': 'Hello Mary Lou (Goodbye Heart) (Live)', 'year': '0'}\n",
      "{'artist_name': 'Queen', 'track_name': 'Imagine (Live In Frankfurt Bootleg)', 'year': '0'}\n",
      "{'artist_name': 'Queen', 'track_name': 'Is This The World We Created? (Live)', 'year': '0'}\n",
      "{'artist_name': 'Queen', 'track_name': 'Killer Queen (2009 Digital Remaster)', 'year': '0'}\n",
      "{'artist_name': 'Queen', 'track_name': 'Las Palabras De Amor (The Words Of Love) (2009 Digital Remaster)', 'year': '0'}\n",
      "{'artist_name': 'Queen', 'track_name': 'Machines (Or Back To Humans) (2009 Digital Remaster)', 'year': '0'}\n",
      "{'artist_name': 'Queen', 'track_name': \"Now I'm Here (2008 Digital Remaster)\", 'year': '0'}\n",
      "{'artist_name': 'Queen', 'track_name': \"Now I'm Here (Live In Montreal)\", 'year': '0'}\n",
      "{'artist_name': 'Queen', 'track_name': \"Now I'm Here (Live) (1994 Digital Remaster)\", 'year': '0'}\n",
      "{'artist_name': 'Queen', 'track_name': 'Play The Game (Live In Montreal)', 'year': '0'}\n",
      "{'artist_name': 'Queen', 'track_name': 'Save Me (2009 Digital Remaster)', 'year': '0'}\n",
      "{'artist_name': 'Queen', 'track_name': 'Somebody To Love (2008 Digital Remaster)', 'year': '0'}\n",
      "{'artist_name': 'Queen', 'track_name': 'The Hero (Live In Frankfurt Bootleg)', 'year': '0'}\n",
      "{'artist_name': 'Queen', 'track_name': 'Tutti Frutti (Live)', 'year': '0'}\n",
      "{'artist_name': 'Queen', 'track_name': 'We Are The Champions (2009 Digital Remaster)', 'year': '0'}\n",
      "{'artist_name': 'Queen', 'track_name': 'We Will Rock You (Fast Version) (Live In Montreal)', 'year': '0'}\n",
      "{'artist_name': 'Queen', 'track_name': 'We Will Rock You (Live In Frankfurt Bootleg)', 'year': '0'}\n",
      "{'artist_name': 'Queen', 'track_name': 'Liar (1994 Digital Remaster)', 'year': '1973'}\n",
      "{'artist_name': 'Queen', 'track_name': 'Stone Cold Crazy', 'year': '1973'}\n",
      "{'artist_name': 'Queen', 'track_name': 'We Will Rock You', 'year': '1973'}\n",
      "{'artist_name': 'Queen', 'track_name': 'Dear Friends (1993 Digital Remaster)', 'year': '1974'}\n",
      "{'artist_name': 'Queen', 'track_name': 'Father To Son (1994 Digital Remaster)', 'year': '1974'}\n",
      "{'artist_name': 'Queen', 'track_name': 'In The Lap Of The Gods...Revisited (1993 Digital Remaster)', 'year': '1974'}\n",
      "{'artist_name': 'Queen', 'track_name': 'Misfire (1993 Digital Remaster)', 'year': '1974'}\n",
      "{'artist_name': 'Queen', 'track_name': 'Nevermore (1994 Digital Remaster)', 'year': '1974'}\n",
      "{'artist_name': 'Queen', 'track_name': \"Now I'm Here\", 'year': '1974'}\n",
      "{'artist_name': 'Queen', 'track_name': 'Bohemian Rhapsody (1993 Digital Remaster)', 'year': '1975'}\n",
      "{'artist_name': 'Queen', 'track_name': 'Bohemian Rhapsody', 'year': '1975'}\n",
      "{'artist_name': 'Queen', 'track_name': 'God Save The Queen', 'year': '1975'}\n",
      "{'artist_name': 'Queen', 'track_name': \"I'm In Love With My Car (1993 Digital Remaster)\", 'year': '1975'}\n",
      "{'artist_name': 'Queen', 'track_name': 'Lazing On A Sunday Afternoon (1993 Digital Remaster)', 'year': '1975'}\n",
      "{'artist_name': 'Queen', 'track_name': 'Love Of My Life (1993 Digital Remaster)', 'year': '1975'}\n",
      "{'artist_name': 'Queen', 'track_name': 'Love Of My Life', 'year': '1975'}\n",
      "{'artist_name': 'Queen', 'track_name': 'Seaside Rendezvous (1993 Digital Remaster)', 'year': '1975'}\n",
      "{'artist_name': 'Queen', 'track_name': \"You're My Best Friend\", 'year': '1975'}\n",
      "{'artist_name': 'Queen', 'track_name': 'Drowse (1993 Digital Remaster)', 'year': '1976'}\n",
      "{'artist_name': 'Queen', 'track_name': 'Good Old Fashioned Lover Boy (1993 Digital Remaster)', 'year': '1976'}\n",
      "{'artist_name': 'Queen', 'track_name': 'Long Away (1993 Digital Remaster)', 'year': '1976'}\n",
      "{'artist_name': 'Queen', 'track_name': 'Somebody To Love (1993 Digital Remaster)', 'year': '1976'}\n",
      "{'artist_name': 'Queen', 'track_name': 'Somebody To Love', 'year': '1976'}\n",
      "{'artist_name': 'Queen', 'track_name': 'Teo Torriatte (Let Us Cling Together) (1993 Digital Remaster)', 'year': '1976'}\n",
      "{'artist_name': 'Queen', 'track_name': 'The Millionaire Waltz (1993 Digital Remaster)', 'year': '1976'}\n",
      "{'artist_name': 'Queen', 'track_name': 'Tie Your Mother Down', 'year': '1976'}\n",
      "{'artist_name': 'Queen', 'track_name': 'White Man (1993 Digital Remaster)', 'year': '1976'}\n",
      "{'artist_name': 'Queen', 'track_name': 'All Dead All Dead (1993 Digital Remaster)', 'year': '1977'}\n",
      "{'artist_name': 'Queen', 'track_name': \"It's Late\", 'year': '1977'}\n",
      "{'artist_name': 'Queen', 'track_name': 'Sheer Heart Attack', 'year': '1977'}\n",
      "{'artist_name': 'Queen', 'track_name': 'Crash Dive On Mingo City (1994 Digital Remaster)', 'year': '1980'}\n",
      "{'artist_name': 'Queen', 'track_name': 'Dragon Attack (1994 Digital Remaster)', 'year': '1980'}\n",
      "{'artist_name': 'Queen', 'track_name': \"Flash's Theme Reprise (Victory Celebrations) (1994 Digital Remaster)\", 'year': '1980'}\n",
      "{'artist_name': 'Queen', 'track_name': 'Flash', 'year': '1980'}\n",
      "{'artist_name': 'Queen', 'track_name': 'Football Fight (1994 Digital Remaster)', 'year': '1980'}\n",
      "{'artist_name': 'Queen', 'track_name': 'Marriage Of Dale And Ming (And Flash Approaching) (1994 Digital Remaster)', 'year': '1980'}\n",
      "{'artist_name': 'Queen', 'track_name': 'Need Your Loving Tonight (1994 Digital Remaster)', 'year': '1980'}\n",
      "{'artist_name': 'Queen', 'track_name': 'The Hero (1994 Digital Remaster)', 'year': '1980'}\n",
      "{'artist_name': 'Queen', 'track_name': \"Vultan's Theme (Attack Of The Hawk Men) (1994 Digital Remaster)\", 'year': '1980'}\n",
      "{'artist_name': 'Queen', 'track_name': 'Action This Day', 'year': '1982'}\n",
      "{'artist_name': 'Queen', 'track_name': 'Body Language (1994 Digital Remaster)', 'year': '1982'}\n",
      "{'artist_name': 'Queen', 'track_name': 'Life Is Real (Song For Lennon) (1994 Digital Remaster)', 'year': '1982'}\n",
      "{'artist_name': 'Queen', 'track_name': 'Is This The World We Created? (1994 Digital Remaster)', 'year': '1984'}\n",
      "{'artist_name': 'Queen', 'track_name': 'Man On The Prowl (1994 Digital Remaster)', 'year': '1984'}\n",
      "{'artist_name': 'Queen', 'track_name': 'A Kind Of Magic', 'year': '1986'}\n",
      "{'artist_name': 'Queen', 'track_name': 'Under Pressure (Live At Nepstadion)', 'year': '1986'}\n",
      "{'artist_name': 'Queen', 'track_name': 'Under Pressure', 'year': '1986'}\n",
      "{'artist_name': 'Queen', 'track_name': 'Breakthru', 'year': '1989'}\n",
      "{'artist_name': 'Queen', 'track_name': 'Hang On In There', 'year': '1989'}\n",
      "{'artist_name': 'Queen', 'track_name': 'My Baby Does Me', 'year': '1989'}\n",
      "{'artist_name': 'Queen', 'track_name': 'Was It All Worth It', 'year': '1989'}\n",
      "{'artist_name': 'Queen', 'track_name': 'Bijou', 'year': '1991'}\n",
      "{'artist_name': 'Queen', 'track_name': 'Headlong', 'year': '1991'}\n",
      "{'artist_name': 'Queen', 'track_name': 'Innuendo', 'year': '1991'}\n",
      "{'artist_name': 'Queen', 'track_name': \"Thank God It's Christmas\", 'year': '1991'}\n",
      "{'artist_name': 'Queen', 'track_name': 'Heaven For Everyone (Album Version)', 'year': '1995'}\n",
      "{'artist_name': 'Queen', 'track_name': 'Mother Love', 'year': '1995'}\n",
      "{'artist_name': 'Queen', 'track_name': 'No One But You (Only The Good Die Young)', 'year': '1997'}\n",
      "{'artist_name': 'Queen', 'track_name': 'Tie Your Mother Down (Live)', 'year': '2004'}\n",
      "{'artist_name': 'Queen', 'track_name': 'Crazy Little Thing Called Love (With Commentary)', 'year': '2009'}\n",
      "{'artist_name': 'Queen', 'track_name': 'Heaven For Everyone (With Commentary)', 'year': '2009'}\n",
      "{'artist_name': 'Queen', 'track_name': \"Now I'm Here (Live)\", 'year': '2009'}\n",
      "{'artist_name': 'Queen', 'track_name': 'The Show Must Go On (With Commentary)', 'year': '2009'}\n",
      "{'artist_name': 'Queen', 'track_name': 'Who Wants To Live Forever (With Commentary)', 'year': '2009'}\n"
     ]
    }
   ],
   "source": [
    "artist=\"Queen\"\n",
    "scanned_rows = table.read_rows(start_key=artist.encode()+b'\\xff\\x00', end_key=artist.encode()+b'\\xff\\x00\\xff')\n",
    "\n",
    "for row in scanned_rows:\n",
    "    cell = json.loads(row.cells[column_family_id][\"song\".encode()][0].value.decode('utf-8'))\n",
    "    print(cell)"
   ]
  },
  {
   "cell_type": "markdown",
   "metadata": {},
   "source": [
    "### Questions to the solution\n",
    "\n",
    "- What is the significance of the seperator b\"\\xff\\x00\"?\n",
    "- Why do we need to include the track name in the rowkey?\n",
    "- What if we wanted the order to be reversed, i.e. the newest songs first?\n",
    "- Creating the client and the table for every song when writing to the database is an expensive operation. How can it be avoided?\n",
    "- What if we wanted to retrieve only the Queen-songs from the 1980's. Is that possible with our rowkey?\n",
    "- What if we wanted to retrieve only the Queen-songs starting with \"B\". Is that possible with our rowkey?"
   ]
  },
  {
   "cell_type": "code",
   "execution_count": null,
   "metadata": {},
   "outputs": [],
   "source": []
  }
 ],
 "metadata": {
  "kernelspec": {
   "display_name": "PySpark",
   "language": "python",
   "name": "pyspark"
  },
  "language_info": {
   "codemirror_mode": {
    "name": "ipython",
    "version": 3
   },
   "file_extension": ".py",
   "mimetype": "text/x-python",
   "name": "python",
   "nbconvert_exporter": "python",
   "pygments_lexer": "ipython3",
   "version": "3.6.5"
  }
 },
 "nbformat": 4,
 "nbformat_minor": 2
}