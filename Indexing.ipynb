{
 "cells": [
  {
   "cell_type": "markdown",
   "metadata": {},
   "source": [
    "# Indexing\n",
    "\n",
    "In this hands-on exercise we will work with indexing data in BigTable, which is very similar to the open source project called HBase. \n",
    "\n",
    "We will all write to the same BigTable instance, so in order to have different tablenames we use the studentID, so please start by changing that to something else!"
   ]
  },
  {
   "cell_type": "code",
   "execution_count": 1,
   "metadata": {},
   "outputs": [],
   "source": [
    "# Should be changed!\n",
    "studentID=\"01\""
   ]
  },
  {
   "cell_type": "code",
   "execution_count": 2,
   "metadata": {},
   "outputs": [],
   "source": [
    "from google.cloud import bigtable\n",
    "from google.cloud.bigtable import column_family\n",
    "from google.cloud.bigtable import row_filters\n",
    "import datetime\n",
    "import json"
   ]
  },
  {
   "cell_type": "markdown",
   "metadata": {},
   "source": [
    "First, we need to set up the client for accessing BigTable"
   ]
  },
  {
   "cell_type": "code",
   "execution_count": 3,
   "metadata": {},
   "outputs": [],
   "source": [
    "project_id=\"big-data-course-235920\"\n",
    "instance_id=\"big-data-course-bigtable\"\n",
    "table_id=\"songstable\"+studentID\n",
    "\n",
    "client = bigtable.Client(project=project_id, admin=True).instance(instance_id)"
   ]
  },
  {
   "cell_type": "markdown",
   "metadata": {},
   "source": [
    "Then we will use the client to create a table. In order for the table to hold any data, at least one column family needs to be created. We will create a column family named \"cf\". There is a feature in BigTable and HBase, which means that when a row is overwritten the previous value is stored and can be retrieved. When a column family is created it must be configured how many versions of the row is retained. We will not use this feature and therefore set the number of versions to store to just one. "
   ]
  },
  {
   "cell_type": "code",
   "execution_count": 4,
   "metadata": {},
   "outputs": [],
   "source": [
    "table = client.table(table_id)\n",
    "column_family_id=\"cf\"\n",
    "column_families = {column_family_id: column_family.MaxVersionsGCRule(1)}\n",
    "if not table.exists():\n",
    "    table.create(column_families=column_families)\n",
    "else:\n",
    "    print(\"Table {} already exists.\".format(table_id))\n",
    "    table.truncate(timeout=200)"
   ]
  },
  {
   "cell_type": "markdown",
   "metadata": {},
   "source": [
    "Once the table is created it can be seen in the web-client.\n",
    "\n",
    "Now, we will put some data in the table. A sample row from the One Million Songs dataset looks like this:\n",
    "\n",
    "| Artist | Song              | Year | Duration  | Loudness | Key | Tempo   |\n",
    "|--------|-------------------|------|-----------|----------|-----|---------|\n",
    "| Queen  | Bohemian Rhapsody | 1975 | 354.2722  | -10.872  | 10  | 71.568  |\n",
    "| Queen  | Under Pressure    | 1986 | 227.36934 | -5.906   | 2   | 123.966 |\n",
    "\n",
    "If we want to put these in a table, so that we can look up any artist and get the songs of that artist in order of the release year. What would the rowkey look like for this?"
   ]
  },
  {
   "cell_type": "markdown",
   "metadata": {},
   "source": [
    "If we just want to put two rows into the table it can be done like this:"
   ]
  },
  {
   "cell_type": "code",
   "execution_count": 5,
   "metadata": {},
   "outputs": [
    {
     "data": {
      "text/plain": [
       "2"
      ]
     },
     "execution_count": 5,
     "metadata": {},
     "output_type": "execute_result"
    }
   ],
   "source": [
    "songs=spark.sparkContext.parallelize([{\"artist\": \"Queen\", \"year\": \"1974\", \"track_name\": \"Bohemian Rhapsody\"}, \n",
    "                   {\"artist\": \"Queen\", \"year\": \"1986\", \"track_name\": \"Under Pressure\"}])\n",
    "\n",
    "def create_row(song):\n",
    "    client = bigtable.Client(project=project_id, admin=True).instance(instance_id)\n",
    "    table = client.table(table_id)\n",
    "    row_key=song[\"track_name\"].encode()\n",
    "    row=table.row(row_key)\n",
    "    row.set_cell(column_family_id,\n",
    "                \"song\".encode(),\n",
    "                json.dumps(song).encode())\n",
    "    table.mutate_rows([row])\n",
    "    return True\n",
    "\n",
    "songs_indexed=songs.map(lambda song: create_row(song)).count()\n",
    "songs_indexed"
   ]
  },
  {
   "cell_type": "markdown",
   "metadata": {},
   "source": [
    "### Retrieving one row\n",
    "\n",
    "We can get one row from the table if we know the rowkey. "
   ]
  },
  {
   "cell_type": "code",
   "execution_count": 6,
   "metadata": {},
   "outputs": [
    {
     "name": "stdout",
     "output_type": "stream",
     "text": [
      "{\"artist\": \"Queen\", \"year\": \"1974\", \"track_name\": \"Bohemian Rhapsody\"}\n"
     ]
    }
   ],
   "source": [
    "key = \"Bohemian Rhapsody\".encode()\n",
    "\n",
    "row = table.read_row(key)\n",
    "cell = row.cells[column_family_id][\"song\".encode()][0]\n",
    "print(cell.value.decode('utf-8'))"
   ]
  },
  {
   "cell_type": "markdown",
   "metadata": {},
   "source": [
    "### Scanning all the rows\n",
    "\n",
    "Since we only have to rows in the table, it is possible to scan the full table. This can be done with the "
   ]
  },
  {
   "cell_type": "code",
   "execution_count": 7,
   "metadata": {},
   "outputs": [
    {
     "name": "stdout",
     "output_type": "stream",
     "text": [
      "{\"artist\": \"Queen\", \"year\": \"1974\", \"track_name\": \"Bohemian Rhapsody\"}\n",
      "{\"artist\": \"Queen\", \"year\": \"1986\", \"track_name\": \"Under Pressure\"}\n"
     ]
    }
   ],
   "source": [
    "partial_rows = table.read_rows()\n",
    "\n",
    "for row in partial_rows:\n",
    "    cell = row.cells[column_family_id][\"song\".encode()][0]\n",
    "    print(cell.value.decode('utf-8'))\n"
   ]
  },
  {
   "cell_type": "markdown",
   "metadata": {},
   "source": [
    "### Scanning from one rowkey to another\n",
    "\n",
    "We can specify where to start scanning and where to end. Below we scan from \"A\" to \"Z\" and therefore we get both rows. Try to change the start_key and end_key and see how it affects the results."
   ]
  },
  {
   "cell_type": "code",
   "execution_count": 8,
   "metadata": {},
   "outputs": [
    {
     "name": "stdout",
     "output_type": "stream",
     "text": [
      "{\"artist\": \"Queen\", \"year\": \"1974\", \"track_name\": \"Bohemian Rhapsody\"}\n",
      "{\"artist\": \"Queen\", \"year\": \"1986\", \"track_name\": \"Under Pressure\"}\n"
     ]
    }
   ],
   "source": [
    "scanned_rows = table.read_rows(start_key=\"A\".encode(), end_key=\"Z\".encode())\n",
    "\n",
    "for row in scanned_rows:\n",
    "    cell = row.cells[column_family_id][\"song\".encode()][0]\n",
    "    print(cell.value.decode('utf-8'))"
   ]
  },
  {
   "cell_type": "markdown",
   "metadata": {},
   "source": [
    "We can delete all rows from the table with the truncate() function."
   ]
  },
  {
   "cell_type": "code",
   "execution_count": 9,
   "metadata": {},
   "outputs": [],
   "source": [
    "table.truncate(timeout=200)"
   ]
  },
  {
   "cell_type": "markdown",
   "metadata": {},
   "source": [
    "\n",
    "------------------\n",
    "\n",
    "# Assignment"
   ]
  },
  {
   "cell_type": "markdown",
   "metadata": {},
   "source": [
    "### Indexing more songs\n",
    "\n",
    "We are now ready to index more songs. We will work with the songs of artists that start with \"Queen\". There should be 457 of those.\n",
    "\n",
    "Our task is to load data into the the table, such that we can retrieve all the songs by \"Queen\", \"Queens Club\", \"Queens Of The Stone Age\" etc. ordered by release year. For some songs the year is zero. Don't worry about those."
   ]
  },
  {
   "cell_type": "code",
   "execution_count": 12,
   "metadata": {},
   "outputs": [],
   "source": [
    "all_queen_songs=spark.read.csv(\"gs://big-data-course-datasets/one-million-songs/one-million-songs.csv\", header=True).rdd \\\n",
    "  .filter(lambda x: x[\"artist_name\"].startswith(\"Queen\")).cache()"
   ]
  },
  {
   "cell_type": "code",
   "execution_count": 13,
   "metadata": {},
   "outputs": [
    {
     "data": {
      "text/plain": [
       "[Row(artist_name='Queen + Paul Rodgers', track_name='I Want To Break Free (Live In Ukraine)', year='0', duration='235.25832', loudness='-8.141', key='2', tempo='114.133'),\n",
       " Row(artist_name='Queen Latifah', track_name=\"Name Callin' (Explicit Soundtrack LP Version)\", year='0', duration='230.66077', loudness='-7.852', key='0', tempo='86.097'),\n",
       " Row(artist_name='Queen Omega', track_name='Brighter Day', year='0', duration='200.22812', loudness='-9.216', key='7', tempo='133.917'),\n",
       " Row(artist_name='Queen', track_name='Love Of My Life', year='1975', duration='262.19057', loudness='-13.386', key='2', tempo='77.464'),\n",
       " Row(artist_name='Queens Club', track_name='Lydia', year='0', duration='168.85506', loudness='-3.763', key='2', tempo='140.979'),\n",
       " Row(artist_name='Queens Of The Stone Age', track_name='Better Living Through Chemistry', year='2000', duration='349.20444', loudness='-7.478', key='7', tempo='111.433'),\n",
       " Row(artist_name='Queen', track_name='Dear Friends (1993 Digital Remaster)', year='1974', duration='68.64934', loudness='-18.707', key='2', tempo='67.584'),\n",
       " Row(artist_name='Queens Of The Stone Age', track_name='Mosquito Song', year='2002', duration='337.94567', loudness='-9.415', key='5', tempo='98.603'),\n",
       " Row(artist_name='Queen Ifrica', track_name='Daddy Dont Touch Me There', year='0', duration='236.77342', loudness='-4.215', key='11', tempo='96.409'),\n",
       " Row(artist_name='Queen', track_name='Breakthru', year='1989', duration='247.71873', loudness='-13.475', key='10', tempo='180.291')]"
      ]
     },
     "execution_count": 13,
     "metadata": {},
     "output_type": "execute_result"
    }
   ],
   "source": [
    "all_queen_songs.take(10)"
   ]
  },
  {
   "cell_type": "markdown",
   "metadata": {},
   "source": [
    "Try to to create the rowkeys of these songs and index them in BigTable. This is more tricky than it sounds! Look at the solution for clues."
   ]
  },
  {
   "cell_type": "code",
   "execution_count": null,
   "metadata": {},
   "outputs": [],
   "source": []
  }
 ],
 "metadata": {
  "kernelspec": {
   "display_name": "PySpark",
   "language": "python",
   "name": "pyspark"
  },
  "language_info": {
   "codemirror_mode": {
    "name": "ipython",
    "version": 3
   },
   "file_extension": ".py",
   "mimetype": "text/x-python",
   "name": "python",
   "nbconvert_exporter": "python",
   "pygments_lexer": "ipython3",
   "version": "3.6.5"
  }
 },
 "nbformat": 4,
 "nbformat_minor": 2
}