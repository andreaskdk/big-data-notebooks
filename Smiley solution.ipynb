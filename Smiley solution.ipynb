{
 "cells": [
  {
   "cell_type": "markdown",
   "metadata": {
    "colab": {},
    "colab_type": "code",
    "id": "XcOQcJm4kYoP"
   },
   "source": [
    "# Smiley Data with SQL\n",
    "\n",
    "In this hands-on exercise we will be looking at data from the Danish Veterinary and Food Administration's \"smiley\"-data. This dataset contains a record for every company in Denmark that handles food.\n",
    "\n",
    "The dataset is availible from here: https://www.findsmiley.dk/Statistik/Smiley_data/Sider/default.aspx"
   ]
  },
  {
   "cell_type": "code",
   "execution_count": 25,
   "metadata": {
    "colab": {
     "base_uri": "https://localhost:8080/",
     "height": 3247
    },
    "colab_type": "code",
    "executionInfo": {
     "elapsed": 2044,
     "status": "ok",
     "timestamp": 1553697902011,
     "user": {
      "displayName": "Andreas Koch",
      "photoUrl": "https://lh5.googleusercontent.com/-OHtisBr3tlI/AAAAAAAAAAI/AAAAAAAAKfo/JUBaUbf6r7o/s64/photo.jpg",
      "userId": "13896205142185313086"
     },
     "user_tz": -60
    },
    "id": "HfMWcnVVk3-j",
    "outputId": "cf48b5fe-49d1-4681-b767-cde079839389"
   },
   "outputs": [],
   "source": [
    "data = spark.read.csv(\"gs://big-data-course-datasets/smiley/smiley.csv\",  \\\n",
    "             header=True).cache()"
   ]
  },
  {
   "cell_type": "markdown",
   "metadata": {
    "colab_type": "text",
    "id": "YUb_NGddpSOw"
   },
   "source": [
    "One of the great features of Spark is the possibility of specifying queries in SQL-syntax. This is great for data analysts who have more experience with SQL than lower level programming. The original interface to Spark was the RDD (resilient distributed datasets), which can be thought of as a list og objects. \n",
    "\n",
    "The SQL-capabilities of Spark are based on the newer DataFrame interface, which can be thought of as tables rather than lists. \n",
    "\n",
    "The data is loaded as usual above, but without the **.rdd**, which means that we will have a DataFrame rather than an RDD.\n",
    "\n",
    "The only thing we need to do to be able to access the data is tell SparkSQL to make the DataFrame available as a table with the **registerTempTable()** function:"
   ]
  },
  {
   "cell_type": "code",
   "execution_count": 26,
   "metadata": {},
   "outputs": [],
   "source": [
    "data.registerTempTable(\"smiley\")"
   ]
  },
  {
   "cell_type": "markdown",
   "metadata": {},
   "source": [
    "SparkSQL follows the Hive SQL syntax. Documentation of this can be found here: https://cwiki.apache.org/confluence/display/Hive/LanguageManual+Select\n",
    "\n",
    "We are now ready to write SQL queries against the **smiley**-table. The **toPandas()** function collects the data to the client machine in a Python Pandas dataframe, which is displayed nicely in Jupyter."
   ]
  },
  {
   "cell_type": "code",
   "execution_count": 27,
   "metadata": {},
   "outputs": [
    {
     "data": {
      "text/html": [
       "<div>\n",
       "<style scoped>\n",
       "    .dataframe tbody tr th:only-of-type {\n",
       "        vertical-align: middle;\n",
       "    }\n",
       "\n",
       "    .dataframe tbody tr th {\n",
       "        vertical-align: top;\n",
       "    }\n",
       "\n",
       "    .dataframe thead th {\n",
       "        text-align: right;\n",
       "    }\n",
       "</style>\n",
       "<table border=\"1\" class=\"dataframe\">\n",
       "  <thead>\n",
       "    <tr style=\"text-align: right;\">\n",
       "      <th></th>\n",
       "      <th>navnelbnr</th>\n",
       "      <th>cvrnr</th>\n",
       "      <th>pnr</th>\n",
       "      <th>brancheKode</th>\n",
       "      <th>branche</th>\n",
       "      <th>virksomhedstype</th>\n",
       "      <th>navn1</th>\n",
       "      <th>adresse1</th>\n",
       "      <th>postnr</th>\n",
       "      <th>By</th>\n",
       "      <th>...</th>\n",
       "      <th>tredjeseneste_kontrol</th>\n",
       "      <th>tredjeseneste_kontrol_dato</th>\n",
       "      <th>fjerdeseneste_kontrol</th>\n",
       "      <th>fjerdeseneste_kontrol_dato</th>\n",
       "      <th>URL</th>\n",
       "      <th>reklame_beskyttelse</th>\n",
       "      <th>Elite_Smiley</th>\n",
       "      <th>Geo_Lng</th>\n",
       "      <th>Geo_Lat</th>\n",
       "      <th>_c23</th>\n",
       "    </tr>\n",
       "  </thead>\n",
       "  <tbody>\n",
       "    <tr>\n",
       "      <th>0</th>\n",
       "      <td>20241</td>\n",
       "      <td>31771676</td>\n",
       "      <td>1014780722</td>\n",
       "      <td>47.29.00.A</td>\n",
       "      <td>Apoteker, materialister, helsekostforretninger...</td>\n",
       "      <td>Detail</td>\n",
       "      <td>Nordic Health Group v/Lasse Arensbach</td>\n",
       "      <td>John F. Kennedys Plads 1 E, 4</td>\n",
       "      <td>9000</td>\n",
       "      <td>Aalborg</td>\n",
       "      <td>...</td>\n",
       "      <td>3</td>\n",
       "      <td>2010-06-23 00:00:00.0000000</td>\n",
       "      <td>1</td>\n",
       "      <td>2009-08-07 00:00:00.0000000</td>\n",
       "      <td>http://www.findsmiley.dk/da-DK/Searching/Detai...</td>\n",
       "      <td>0</td>\n",
       "      <td>0</td>\n",
       "      <td>9.919034</td>\n",
       "      <td>57.042357</td>\n",
       "      <td>None</td>\n",
       "    </tr>\n",
       "    <tr>\n",
       "      <th>1</th>\n",
       "      <td>558011</td>\n",
       "      <td>20458984</td>\n",
       "      <td>1020058516</td>\n",
       "      <td>DD.10.71.20</td>\n",
       "      <td>Specialforretning - Bager m.v.</td>\n",
       "      <td>Detail</td>\n",
       "      <td>City Bakery ApS</td>\n",
       "      <td>Nørregade 13</td>\n",
       "      <td>3390</td>\n",
       "      <td>Hundested</td>\n",
       "      <td>...</td>\n",
       "      <td>1</td>\n",
       "      <td>2016-02-01 00:00:00.0000000</td>\n",
       "      <td>1</td>\n",
       "      <td>2015-02-26 00:00:00.0000000</td>\n",
       "      <td>http://www.findsmiley.dk/da-DK/Searching/Detai...</td>\n",
       "      <td>0</td>\n",
       "      <td>1</td>\n",
       "      <td>11.850424</td>\n",
       "      <td>55.964534</td>\n",
       "      <td>None</td>\n",
       "    </tr>\n",
       "    <tr>\n",
       "      <th>2</th>\n",
       "      <td>659007</td>\n",
       "      <td>35954716</td>\n",
       "      <td>1021247800</td>\n",
       "      <td>DD.10.71.20</td>\n",
       "      <td>Specialforretning - Bager m.v.</td>\n",
       "      <td>Detail</td>\n",
       "      <td>føtex Bager</td>\n",
       "      <td>Sølvgade 10</td>\n",
       "      <td>1307</td>\n",
       "      <td>København K</td>\n",
       "      <td>...</td>\n",
       "      <td>None</td>\n",
       "      <td>None</td>\n",
       "      <td>None</td>\n",
       "      <td>None</td>\n",
       "      <td>http://www.findsmiley.dk/da-DK/Searching/Detai...</td>\n",
       "      <td>1</td>\n",
       "      <td>0</td>\n",
       "      <td>12.583998</td>\n",
       "      <td>55.686013</td>\n",
       "      <td>None</td>\n",
       "    </tr>\n",
       "    <tr>\n",
       "      <th>3</th>\n",
       "      <td>43790</td>\n",
       "      <td>13471282</td>\n",
       "      <td>1000570100</td>\n",
       "      <td>DD.10.71.20</td>\n",
       "      <td>Specialforretning - Bager m.v.</td>\n",
       "      <td>Detail</td>\n",
       "      <td>VENNELYSTVEJENS BAGERI V/KENT MØLLER JOHANSEN</td>\n",
       "      <td>Vennelystvej 56  A</td>\n",
       "      <td>8960</td>\n",
       "      <td>None</td>\n",
       "      <td>...</td>\n",
       "      <td>1</td>\n",
       "      <td>2016-02-18 00:00:00.0000000</td>\n",
       "      <td>1</td>\n",
       "      <td>2015-06-03 00:00:00.0000000</td>\n",
       "      <td>http://www.findsmiley.dk/da-DK/Searching/Detai...</td>\n",
       "      <td>0</td>\n",
       "      <td>1</td>\n",
       "      <td>10.058702</td>\n",
       "      <td>56.444878</td>\n",
       "      <td>None</td>\n",
       "    </tr>\n",
       "    <tr>\n",
       "      <th>4</th>\n",
       "      <td>513605</td>\n",
       "      <td>34583730</td>\n",
       "      <td>1017699098</td>\n",
       "      <td>DD.10.71.20</td>\n",
       "      <td>Specialforretning - Bager m.v.</td>\n",
       "      <td>Detail</td>\n",
       "      <td>Firdaws ApS</td>\n",
       "      <td>Enghavevej 172</td>\n",
       "      <td>2450</td>\n",
       "      <td>København SV</td>\n",
       "      <td>...</td>\n",
       "      <td>2</td>\n",
       "      <td>2017-06-01 00:00:00.0000000</td>\n",
       "      <td>1</td>\n",
       "      <td>2016-07-13 00:00:00.0000000</td>\n",
       "      <td>http://www.findsmiley.dk/da-DK/Searching/Detai...</td>\n",
       "      <td>0</td>\n",
       "      <td>0</td>\n",
       "      <td>12.537889</td>\n",
       "      <td>55.656613</td>\n",
       "      <td>None</td>\n",
       "    </tr>\n",
       "  </tbody>\n",
       "</table>\n",
       "<p>5 rows × 24 columns</p>\n",
       "</div>"
      ],
      "text/plain": [
       "  navnelbnr     cvrnr         pnr  brancheKode  \\\n",
       "0     20241  31771676  1014780722   47.29.00.A   \n",
       "1    558011  20458984  1020058516  DD.10.71.20   \n",
       "2    659007  35954716  1021247800  DD.10.71.20   \n",
       "3     43790  13471282  1000570100  DD.10.71.20   \n",
       "4    513605  34583730  1017699098  DD.10.71.20   \n",
       "\n",
       "                                             branche virksomhedstype  \\\n",
       "0  Apoteker, materialister, helsekostforretninger...          Detail   \n",
       "1                     Specialforretning - Bager m.v.          Detail   \n",
       "2                     Specialforretning - Bager m.v.          Detail   \n",
       "3                     Specialforretning - Bager m.v.          Detail   \n",
       "4                     Specialforretning - Bager m.v.          Detail   \n",
       "\n",
       "                                           navn1  \\\n",
       "0          Nordic Health Group v/Lasse Arensbach   \n",
       "1                                City Bakery ApS   \n",
       "2                                    føtex Bager   \n",
       "3  VENNELYSTVEJENS BAGERI V/KENT MØLLER JOHANSEN   \n",
       "4                                    Firdaws ApS   \n",
       "\n",
       "                        adresse1 postnr            By  ...  \\\n",
       "0  John F. Kennedys Plads 1 E, 4   9000       Aalborg  ...   \n",
       "1                   Nørregade 13   3390     Hundested  ...   \n",
       "2                    Sølvgade 10   1307   København K  ...   \n",
       "3             Vennelystvej 56  A   8960          None  ...   \n",
       "4                 Enghavevej 172   2450  København SV  ...   \n",
       "\n",
       "  tredjeseneste_kontrol   tredjeseneste_kontrol_dato fjerdeseneste_kontrol  \\\n",
       "0                     3  2010-06-23 00:00:00.0000000                     1   \n",
       "1                     1  2016-02-01 00:00:00.0000000                     1   \n",
       "2                  None                         None                  None   \n",
       "3                     1  2016-02-18 00:00:00.0000000                     1   \n",
       "4                     2  2017-06-01 00:00:00.0000000                     1   \n",
       "\n",
       "    fjerdeseneste_kontrol_dato  \\\n",
       "0  2009-08-07 00:00:00.0000000   \n",
       "1  2015-02-26 00:00:00.0000000   \n",
       "2                         None   \n",
       "3  2015-06-03 00:00:00.0000000   \n",
       "4  2016-07-13 00:00:00.0000000   \n",
       "\n",
       "                                                 URL reklame_beskyttelse  \\\n",
       "0  http://www.findsmiley.dk/da-DK/Searching/Detai...                   0   \n",
       "1  http://www.findsmiley.dk/da-DK/Searching/Detai...                   0   \n",
       "2  http://www.findsmiley.dk/da-DK/Searching/Detai...                   1   \n",
       "3  http://www.findsmiley.dk/da-DK/Searching/Detai...                   0   \n",
       "4  http://www.findsmiley.dk/da-DK/Searching/Detai...                   0   \n",
       "\n",
       "  Elite_Smiley    Geo_Lng    Geo_Lat  _c23  \n",
       "0            0   9.919034  57.042357  None  \n",
       "1            1  11.850424  55.964534  None  \n",
       "2            0  12.583998  55.686013  None  \n",
       "3            1  10.058702  56.444878  None  \n",
       "4            0  12.537889  55.656613  None  \n",
       "\n",
       "[5 rows x 24 columns]"
      ]
     },
     "execution_count": 27,
     "metadata": {},
     "output_type": "execute_result"
    }
   ],
   "source": [
    "spark.sql(\"SELECT * FROM smiley LIMIT 5\").toPandas()"
   ]
  },
  {
   "cell_type": "markdown",
   "metadata": {},
   "source": [
    "We can now explore the data. For example, we can count how many of the companies that handle food have an elite-smiley which is the best achievable smiley possible."
   ]
  },
  {
   "cell_type": "code",
   "execution_count": 29,
   "metadata": {
    "colab": {},
    "colab_type": "code",
    "id": "HzpgecZDuoFx"
   },
   "outputs": [
    {
     "data": {
      "text/html": [
       "<div>\n",
       "<style scoped>\n",
       "    .dataframe tbody tr th:only-of-type {\n",
       "        vertical-align: middle;\n",
       "    }\n",
       "\n",
       "    .dataframe tbody tr th {\n",
       "        vertical-align: top;\n",
       "    }\n",
       "\n",
       "    .dataframe thead th {\n",
       "        text-align: right;\n",
       "    }\n",
       "</style>\n",
       "<table border=\"1\" class=\"dataframe\">\n",
       "  <thead>\n",
       "    <tr style=\"text-align: right;\">\n",
       "      <th></th>\n",
       "      <th>Elite_Smiley</th>\n",
       "      <th>c</th>\n",
       "    </tr>\n",
       "  </thead>\n",
       "  <tbody>\n",
       "    <tr>\n",
       "      <th>0</th>\n",
       "      <td>0</td>\n",
       "      <td>26444</td>\n",
       "    </tr>\n",
       "    <tr>\n",
       "      <th>1</th>\n",
       "      <td>1</td>\n",
       "      <td>27612</td>\n",
       "    </tr>\n",
       "  </tbody>\n",
       "</table>\n",
       "</div>"
      ],
      "text/plain": [
       "  Elite_Smiley      c\n",
       "0            0  26444\n",
       "1            1  27612"
      ]
     },
     "execution_count": 29,
     "metadata": {},
     "output_type": "execute_result"
    }
   ],
   "source": [
    "spark.sql(\"SELECT Elite_Smiley, count(*) AS c FROM smiley GROUP BY Elite_Smiley\").toPandas()"
   ]
  },
  {
   "cell_type": "markdown",
   "metadata": {},
   "source": [
    "It turns out that about half of the companies have elite smileys. We can show this on a bar chart."
   ]
  },
  {
   "cell_type": "code",
   "execution_count": 31,
   "metadata": {},
   "outputs": [
    {
     "data": {
      "text/plain": [
       "<matplotlib.axes._subplots.AxesSubplot at 0x7f6fb492a438>"
      ]
     },
     "execution_count": 31,
     "metadata": {},
     "output_type": "execute_result"
    },
    {
     "data": {
      "image/png": "[encoded data removed]",
      "text/plain": [
       "<Figure size 432x288 with 1 Axes>"
      ]
     },
     "metadata": {
      "needs_background": "light"
     },
     "output_type": "display_data"
    }
   ],
   "source": [
    "import seaborn as sns\n",
    "import pandas as pd\n",
    "%matplotlib inline\n",
    "\n",
    "data=spark.sql(\"SELECT Elite_Smiley, count(*) AS c FROM smiley GROUP BY Elite_Smiley\").toPandas()\n",
    "sns.barplot(x=\"Elite_Smiley\", y=\"c\", data=data)"
   ]
  },
  {
   "cell_type": "markdown",
   "metadata": {},
   "source": [
    "\n",
    "------------------\n",
    "\n",
    "# Assignment"
   ]
  },
  {
   "cell_type": "markdown",
   "metadata": {},
   "source": [
    "Try to use SparkSQL to answer some of these questions:\n",
    "\n",
    "- Which type of shop has a higher fraction of elite smileys butchers (slagter) or shops selling fish (fisk)?\n",
    "- Does companies with the word \"pub\" in its name have a higher fraction of elite smileys than shops with \"delikatesse\" in its name?\n",
    "- Does comapnies with the word \"sushi\" in its name have a higher fraction of elite smileys than shops with \"pizza\" in its name?"
   ]
  },
  {
   "cell_type": "markdown",
   "metadata": {},
   "source": [
    "There are several ways of aproaching this questions. To some it is easiest to have simple SQL-queries to retrieve data and then do the last bit of manipulation in Python afterwards. It is however entirely possible to write SQL queries to arrange the data as we would like."
   ]
  },
  {
   "cell_type": "code",
   "execution_count": 85,
   "metadata": {},
   "outputs": [
    {
     "data": {
      "text/html": [
       "<div>\n",
       "<style scoped>\n",
       "    .dataframe tbody tr th:only-of-type {\n",
       "        vertical-align: middle;\n",
       "    }\n",
       "\n",
       "    .dataframe tbody tr th {\n",
       "        vertical-align: top;\n",
       "    }\n",
       "\n",
       "    .dataframe thead th {\n",
       "        text-align: right;\n",
       "    }\n",
       "</style>\n",
       "<table border=\"1\" class=\"dataframe\">\n",
       "  <thead>\n",
       "    <tr style=\"text-align: right;\">\n",
       "      <th></th>\n",
       "      <th>branche</th>\n",
       "      <th>elite_fraction</th>\n",
       "    </tr>\n",
       "  </thead>\n",
       "  <tbody>\n",
       "    <tr>\n",
       "      <th>0</th>\n",
       "      <td>Specialforretning - Slagter m.v.</td>\n",
       "      <td>0.725641</td>\n",
       "    </tr>\n",
       "    <tr>\n",
       "      <th>1</th>\n",
       "      <td>Specialforretning - Fisk m.v.</td>\n",
       "      <td>0.645977</td>\n",
       "    </tr>\n",
       "  </tbody>\n",
       "</table>\n",
       "</div>"
      ],
      "text/plain": [
       "                            branche  elite_fraction\n",
       "0  Specialforretning - Slagter m.v.        0.725641\n",
       "1     Specialforretning - Fisk m.v.        0.645977"
      ]
     },
     "execution_count": 85,
     "metadata": {},
     "output_type": "execute_result"
    }
   ],
   "source": [
    "data=spark.sql(\"\"\"SELECT branche, AVG(elite_Smiley) elite_fraction\n",
    "    FROM smiley \n",
    "    WHERE branche LIKE \"%Slagter m.v.%\" OR branche LIKE \"%Fisk m.v.%\"\n",
    "    GROUP BY branche \"\"\").toPandas()\n",
    "data"
   ]
  },
  {
   "cell_type": "code",
   "execution_count": 86,
   "metadata": {},
   "outputs": [
    {
     "data": {
      "text/plain": [
       "<matplotlib.axes._subplots.AxesSubplot at 0x7f6faf77c518>"
      ]
     },
     "execution_count": 86,
     "metadata": {},
     "output_type": "execute_result"
    },
    {
     "data": {
      "image/png": "[encoded data removed]",
      "text/plain": [
       "<Figure size 432x288 with 1 Axes>"
      ]
     },
     "metadata": {
      "needs_background": "light"
     },
     "output_type": "display_data"
    }
   ],
   "source": [
    "sns.barplot(x=\"branche\", y=\"elite_fraction\", data=data)"
   ]
  },
  {
   "cell_type": "markdown",
   "metadata": {},
   "source": [
    "To group data by parts of the name is more challenging in SQL, but it can be done with a **CASE** clause."
   ]
  },
  {
   "cell_type": "code",
   "execution_count": 80,
   "metadata": {},
   "outputs": [
    {
     "data": {
      "text/html": [
       "<div>\n",
       "<style scoped>\n",
       "    .dataframe tbody tr th:only-of-type {\n",
       "        vertical-align: middle;\n",
       "    }\n",
       "\n",
       "    .dataframe tbody tr th {\n",
       "        vertical-align: top;\n",
       "    }\n",
       "\n",
       "    .dataframe thead th {\n",
       "        text-align: right;\n",
       "    }\n",
       "</style>\n",
       "<table border=\"1\" class=\"dataframe\">\n",
       "  <thead>\n",
       "    <tr style=\"text-align: right;\">\n",
       "      <th></th>\n",
       "      <th>elite_fraction</th>\n",
       "      <th>type</th>\n",
       "    </tr>\n",
       "  </thead>\n",
       "  <tbody>\n",
       "    <tr>\n",
       "      <th>0</th>\n",
       "      <td>0.080000</td>\n",
       "      <td>Pub</td>\n",
       "    </tr>\n",
       "    <tr>\n",
       "      <th>1</th>\n",
       "      <td>0.607843</td>\n",
       "      <td>Delikatesse</td>\n",
       "    </tr>\n",
       "  </tbody>\n",
       "</table>\n",
       "</div>"
      ],
      "text/plain": [
       "   elite_fraction         type\n",
       "0        0.080000          Pub\n",
       "1        0.607843  Delikatesse"
      ]
     },
     "execution_count": 80,
     "metadata": {},
     "output_type": "execute_result"
    }
   ],
   "source": [
    "data=spark.sql(\"\"\"SELECT AVG(Elite_Smiley) elite_fraction,\n",
    "(CASE WHEN (navn1 LIKE \"%pub%\") THEN \"Pub\" ELSE \"Delikatesse\" END) AS type\n",
    "FROM smiley\n",
    "WHERE navn1 LIKE \"%pub%\" OR navn1 LIKE \"%delikatesse%\"\n",
    "GROUP BY type\n",
    "\"\"\").toPandas()\n",
    "data"
   ]
  },
  {
   "cell_type": "code",
   "execution_count": 81,
   "metadata": {},
   "outputs": [
    {
     "data": {
      "text/plain": [
       "<matplotlib.axes._subplots.AxesSubplot at 0x7f6faf497fd0>"
      ]
     },
     "execution_count": 81,
     "metadata": {},
     "output_type": "execute_result"
    },
    {
     "data": {
      "image/png": "[encoded data removed]",
      "text/plain": [
       "<Figure size 432x288 with 1 Axes>"
      ]
     },
     "metadata": {
      "needs_background": "light"
     },
     "output_type": "display_data"
    }
   ],
   "source": [
    "sns.barplot(x=\"type\", y=\"elite_fraction\", data=data)"
   ]
  },
  {
   "cell_type": "code",
   "execution_count": 83,
   "metadata": {},
   "outputs": [
    {
     "data": {
      "text/html": [
       "<div>\n",
       "<style scoped>\n",
       "    .dataframe tbody tr th:only-of-type {\n",
       "        vertical-align: middle;\n",
       "    }\n",
       "\n",
       "    .dataframe tbody tr th {\n",
       "        vertical-align: top;\n",
       "    }\n",
       "\n",
       "    .dataframe thead th {\n",
       "        text-align: right;\n",
       "    }\n",
       "</style>\n",
       "<table border=\"1\" class=\"dataframe\">\n",
       "  <thead>\n",
       "    <tr style=\"text-align: right;\">\n",
       "      <th></th>\n",
       "      <th>elite_fraction</th>\n",
       "      <th>type</th>\n",
       "    </tr>\n",
       "  </thead>\n",
       "  <tbody>\n",
       "    <tr>\n",
       "      <th>0</th>\n",
       "      <td>0.522727</td>\n",
       "      <td>Sushi</td>\n",
       "    </tr>\n",
       "    <tr>\n",
       "      <th>1</th>\n",
       "      <td>0.422886</td>\n",
       "      <td>Pizza</td>\n",
       "    </tr>\n",
       "  </tbody>\n",
       "</table>\n",
       "</div>"
      ],
      "text/plain": [
       "   elite_fraction   type\n",
       "0        0.522727  Sushi\n",
       "1        0.422886  Pizza"
      ]
     },
     "execution_count": 83,
     "metadata": {},
     "output_type": "execute_result"
    }
   ],
   "source": [
    "data=spark.sql(\"\"\"SELECT AVG(Elite_Smiley) elite_fraction,\n",
    "(CASE WHEN (navn1 LIKE \"%sushi%\") THEN \"Sushi\" ELSE \"Pizza\" END) AS type\n",
    "FROM smiley\n",
    "WHERE navn1 LIKE \"%sushi%\" OR navn1 LIKE \"%pizza%\"\n",
    "GROUP BY type\n",
    "\"\"\").toPandas()\n",
    "data"
   ]
  },
  {
   "cell_type": "code",
   "execution_count": 74,
   "metadata": {},
   "outputs": [
    {
     "data": {
      "text/plain": [
       "<matplotlib.axes._subplots.AxesSubplot at 0x7f6faf7b0550>"
      ]
     },
     "execution_count": 74,
     "metadata": {},
     "output_type": "execute_result"
    },
    {
     "data": {
      "image/png": "[encoded data removed]",
      "text/plain": [
       "<Figure size 432x288 with 1 Axes>"
      ]
     },
     "metadata": {
      "needs_background": "light"
     },
     "output_type": "display_data"
    }
   ],
   "source": [
    "sns.barplot(x=\"type\", y=\"elite_fraction\", data=data)"
   ]
  },
  {
   "cell_type": "code",
   "execution_count": null,
   "metadata": {},
   "outputs": [],
   "source": []
  }
 ],
 "metadata": {
  "colab": {
   "collapsed_sections": [],
   "name": "Smiley.ipynb",
   "provenance": [],
   "version": "0.3.2"
  },
  "kernelspec": {
   "display_name": "PySpark",
   "language": "python",
   "name": "pyspark"
  },
  "language_info": {
   "codemirror_mode": {
    "name": "ipython",
    "version": 3
   },
   "file_extension": ".py",
   "mimetype": "text/x-python",
   "name": "python",
   "nbconvert_exporter": "python",
   "pygments_lexer": "ipython3",
   "version": "3.6.5"
  }
 },
 "nbformat": 4,
 "nbformat_minor": 1
}
